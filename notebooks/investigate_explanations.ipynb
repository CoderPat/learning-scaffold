{
 "cells": [
  {
   "cell_type": "markdown",
   "id": "0f173f6e",
   "metadata": {},
   "source": [
    "set cuda id"
   ]
  },
  {
   "cell_type": "code",
   "execution_count": null,
   "id": "e5442597",
   "metadata": {},
   "outputs": [],
   "source": [
    "%env CUDA_DEVICE_ORDER=PCI_BUS_ID\n",
    "%env CUDA_VISIBLE_DEVICES=3"
   ]
  },
  {
   "cell_type": "markdown",
   "id": "0343ff12",
   "metadata": {},
   "source": [
    "Install dependencies for computing metrics and plots:"
   ]
  },
  {
   "cell_type": "code",
   "execution_count": 2,
   "id": "7b7502e9",
   "metadata": {
    "scrolled": false
   },
   "outputs": [],
   "source": [
    "#!pip3 install numpy scipy pandas seaborn matplotlib sklearn"
   ]
  },
  {
   "cell_type": "markdown",
   "id": "b6e1ab61",
   "metadata": {},
   "source": [
    "## Basic imports"
   ]
  },
  {
   "cell_type": "code",
   "execution_count": 3,
   "id": "111e491d",
   "metadata": {},
   "outputs": [],
   "source": [
    "import jax\n",
    "import jax.numpy as jnp\n",
    "import flax\n",
    "from entmax_jax import sparsemax\n",
    "import numpy as np\n",
    "from matplotlib import pyplot as plt\n",
    "import seaborn as sns\n",
    "import pandas as pd\n",
    "from IPython.display import display, HTML\n",
    "from functools import partial\n",
    "import json\n",
    "from entmax_jax.activations import sparsemax, entmax15\n",
    "from sklearn.metrics import roc_auc_score, average_precision_score\n",
    "\n",
    "from meta_expl.explainers import load_explainer\n",
    "from meta_expl.models import load_model\n",
    "from meta_expl.data.mlqe import dataloader\n",
    "\n",
    "from evaluate_explanations import evaluate_word_level, evaluate_sentence_level, aggregate_pieces"
   ]
  },
  {
   "cell_type": "code",
   "execution_count": 30,
   "id": "696c7a83",
   "metadata": {},
   "outputs": [],
   "source": [
    "# data utils\n",
    "def unroll(list_of_lists):\n",
    "    return [e for ell in list_of_lists for e in ell]\n",
    "\n",
    "def read_data(lp, split='dev'):\n",
    "    def tags_to_ints(line):\n",
    "        return list(map(int, line.strip().replace('OK', '0').replace('BAD', '1').split()))\n",
    "    data = {\n",
    "        'original': [line.strip() for line in open('data/{}/{}.src'.format(lp, split), 'r')],\n",
    "        'translation': [line.strip() for line in open('data/{}/{}.mt'.format(lp, split), 'r')],\n",
    "        'da': [float(line.strip()) for line in open('data/{}/{}.da'.format(lp, split), 'r')],\n",
    "        'src_tags': [tags_to_ints(line) for line in open('data/{}/{}.src-tags'.format(lp, split), 'r')],\n",
    "        'mt_tags': [tags_to_ints(line) for line in open('data/{}/{}.tgt-tags'.format(lp, split), 'r')]\n",
    "    }\n",
    "    z = np.array(data['da'])\n",
    "    data['z_mean'] = (z - z.mean()) / z.std()\n",
    "    data = [dict(zip(data.keys(), v)) for v in list(zip(*data.values()))]\n",
    "    return data"
   ]
  },
  {
   "cell_type": "markdown",
   "id": "f0051472",
   "metadata": {},
   "source": [
    "## Define args and load stuff"
   ]
  },
  {
   "cell_type": "code",
   "execution_count": 38,
   "id": "e77dafcf",
   "metadata": {
    "scrolled": false
   },
   "outputs": [],
   "source": [
    "# arguments\n",
    "arch = 'xlm-roberta-base'\n",
    "arch_mtl = 'xlm-r'\n",
    "setup = 'no_teacher'  # \"no_teacher\", \"static_teacher\", \"learnable_teacher\"\n",
    "lp = 'et-en'\n",
    "max_len = 256\n",
    "batch_size = 16\n",
    "seed = 1\n",
    "sep_token = \"</s>\" if 'xlm' in arch else \"[SEP]\"\n",
    "num_classes = 1\n",
    "task_type = \"regression\"\n",
    "teacher_dir = 'data/mlqe-xlmr-explainer/teacher_dir'\n",
    "explainer_dir = 'data/mlqe-xlmr-explainer/teacher_expl_dir'"
   ]
  },
  {
   "cell_type": "code",
   "execution_count": 39,
   "id": "a323ee16",
   "metadata": {},
   "outputs": [
    {
     "data": {
      "text/plain": [
       "(16, 256)"
      ]
     },
     "execution_count": 39,
     "metadata": {},
     "output_type": "execute_result"
    }
   ],
   "source": [
    "# create dummy inputs for model instantiation\n",
    "input_ids = jnp.ones((batch_size, max_len), jnp.int32)\n",
    "dummy_inputs = {\n",
    "    \"input_ids\": input_ids,\n",
    "    \"attention_mask\": jnp.ones_like(input_ids),\n",
    "    \"token_type_ids\": jnp.arange(jnp.atleast_2d(input_ids).shape[-1]),\n",
    "    \"position_ids\": jnp.ones_like(input_ids),\n",
    "}\n",
    "dummy_inputs['input_ids'].shape"
   ]
  },
  {
   "cell_type": "markdown",
   "id": "b1f4f9ad",
   "metadata": {},
   "source": [
    "### load data"
   ]
  },
  {
   "cell_type": "code",
   "execution_count": 40,
   "id": "1c07f5c2",
   "metadata": {},
   "outputs": [],
   "source": [
    "# load data\n",
    "dataloader = partial(dataloader, sep_token=sep_token)\n",
    "train_data = read_data(lp, \"train\")\n",
    "valid_data = read_data(lp, \"dev\")"
   ]
  },
  {
   "cell_type": "markdown",
   "id": "f90ea756",
   "metadata": {},
   "source": [
    "### load tokenizer"
   ]
  },
  {
   "cell_type": "code",
   "execution_count": 41,
   "id": "bbf471df",
   "metadata": {},
   "outputs": [],
   "source": [
    "from transformers import XLMRobertaTokenizerFast\n",
    "tokenizer = XLMRobertaTokenizerFast.from_pretrained(arch)\n",
    "cls_id = tokenizer.cls_token_id\n",
    "sep_id = tokenizer.sep_token_id\n",
    "pad_id = tokenizer.pad_token_id"
   ]
  },
  {
   "cell_type": "markdown",
   "id": "c7df6d85",
   "metadata": {},
   "source": [
    "### load model and explainer"
   ]
  },
  {
   "cell_type": "code",
   "execution_count": 42,
   "id": "478ee21f",
   "metadata": {},
   "outputs": [],
   "source": [
    "teacher, teacher_params, dummy_state = load_model(teacher_dir, batch_size, max_len)\n",
    "teacher_explainer, teacher_explainer_params = load_explainer(explainer_dir, dummy_inputs, state=dummy_state)"
   ]
  },
  {
   "cell_type": "markdown",
   "id": "5cb5e5dd",
   "metadata": {},
   "source": [
    "### look at the coefficients"
   ]
  },
  {
   "cell_type": "code",
   "execution_count": 60,
   "id": "b456c5df",
   "metadata": {
    "scrolled": true
   },
   "outputs": [
    {
     "data": {
      "text/plain": [
       "DeviceArray([[6.6099882e-02, 6.3712515e-02, 7.3839456e-02, 6.9502227e-02,\n",
       "              5.1050484e-02, 9.5809259e-02, 5.9452578e-02, 6.5691888e-02,\n",
       "              1.2076387e-02, 2.8657366e-02, 4.7833547e-02, 6.7266285e-02],\n",
       "             [0.0000000e+00, 0.0000000e+00, 0.0000000e+00, 0.0000000e+00,\n",
       "              0.0000000e+00, 0.0000000e+00, 0.0000000e+00, 0.0000000e+00,\n",
       "              0.0000000e+00, 0.0000000e+00, 0.0000000e+00, 0.0000000e+00],\n",
       "             [0.0000000e+00, 0.0000000e+00, 0.0000000e+00, 0.0000000e+00,\n",
       "              0.0000000e+00, 0.0000000e+00, 0.0000000e+00, 0.0000000e+00,\n",
       "              0.0000000e+00, 0.0000000e+00, 0.0000000e+00, 0.0000000e+00],\n",
       "             [0.0000000e+00, 0.0000000e+00, 0.0000000e+00, 0.0000000e+00,\n",
       "              0.0000000e+00, 0.0000000e+00, 0.0000000e+00, 0.0000000e+00,\n",
       "              0.0000000e+00, 0.0000000e+00, 0.0000000e+00, 0.0000000e+00],\n",
       "             [0.0000000e+00, 0.0000000e+00, 0.0000000e+00, 0.0000000e+00,\n",
       "              0.0000000e+00, 0.0000000e+00, 0.0000000e+00, 0.0000000e+00,\n",
       "              0.0000000e+00, 0.0000000e+00, 5.1983088e-02, 0.0000000e+00],\n",
       "             [0.0000000e+00, 0.0000000e+00, 0.0000000e+00, 0.0000000e+00,\n",
       "              0.0000000e+00, 0.0000000e+00, 0.0000000e+00, 0.0000000e+00,\n",
       "              0.0000000e+00, 0.0000000e+00, 0.0000000e+00, 0.0000000e+00],\n",
       "             [0.0000000e+00, 0.0000000e+00, 0.0000000e+00, 0.0000000e+00,\n",
       "              0.0000000e+00, 0.0000000e+00, 0.0000000e+00, 0.0000000e+00,\n",
       "              0.0000000e+00, 0.0000000e+00, 0.0000000e+00, 0.0000000e+00],\n",
       "             [2.1494925e-06, 0.0000000e+00, 0.0000000e+00, 0.0000000e+00,\n",
       "              0.0000000e+00, 0.0000000e+00, 0.0000000e+00, 0.0000000e+00,\n",
       "              7.0939533e-02, 9.5779181e-02, 0.0000000e+00, 2.4316832e-06],\n",
       "             [0.0000000e+00, 0.0000000e+00, 0.0000000e+00, 0.0000000e+00,\n",
       "              0.0000000e+00, 1.7905479e-02, 0.0000000e+00, 1.5874904e-02,\n",
       "              0.0000000e+00, 0.0000000e+00, 0.0000000e+00, 0.0000000e+00],\n",
       "             [0.0000000e+00, 0.0000000e+00, 0.0000000e+00, 0.0000000e+00,\n",
       "              0.0000000e+00, 3.3964600e-02, 0.0000000e+00, 0.0000000e+00,\n",
       "              0.0000000e+00, 0.0000000e+00, 0.0000000e+00, 0.0000000e+00],\n",
       "             [0.0000000e+00, 1.2556722e-02, 0.0000000e+00, 0.0000000e+00,\n",
       "              0.0000000e+00, 0.0000000e+00, 0.0000000e+00, 0.0000000e+00,\n",
       "              0.0000000e+00, 0.0000000e+00, 0.0000000e+00, 0.0000000e+00],\n",
       "             [0.0000000e+00, 0.0000000e+00, 0.0000000e+00, 0.0000000e+00,\n",
       "              0.0000000e+00, 0.0000000e+00, 0.0000000e+00, 0.0000000e+00,\n",
       "              0.0000000e+00, 0.0000000e+00, 0.0000000e+00, 0.0000000e+00]],            dtype=float32)"
      ]
     },
     "execution_count": 60,
     "metadata": {},
     "output_type": "execute_result"
    }
   ],
   "source": [
    "sparsemax(teacher_explainer_params['params']['head_coeffs']).reshape(12, 12)"
   ]
  },
  {
   "cell_type": "code",
   "execution_count": 69,
   "id": "3c510442",
   "metadata": {},
   "outputs": [
    {
     "data": {
      "text/plain": [
       "[(1, 0.0),\n",
       " (2, 0.0),\n",
       " (3, 0.0),\n",
       " (5, 0.0),\n",
       " (6, 0.0),\n",
       " (11, 0.0),\n",
       " (10, 0.01255672238767147),\n",
       " (8, 0.033780381083488464),\n",
       " (9, 0.033964600414037704),\n",
       " (4, 0.05198308825492859),\n",
       " (7, 0.16672329604625702),\n",
       " (0, 0.7009918689727783)]"
      ]
     },
     "execution_count": 69,
     "metadata": {},
     "output_type": "execute_result"
    }
   ],
   "source": [
    "# check the layers with the highest coefficients\n",
    "layer_coeffs = sparsemax(teacher_explainer_params['params']['head_coeffs']).reshape(12, 12).sum(-1).tolist()\n",
    "sorted(list(zip(list(range(0, len(layer_coeffs))), layer_coeffs)), key=lambda k: k[1])"
   ]
  },
  {
   "cell_type": "markdown",
   "id": "b0a705b0",
   "metadata": {},
   "source": [
    "## Get explanations"
   ]
  },
  {
   "cell_type": "code",
   "execution_count": 76,
   "id": "22b7e6a1",
   "metadata": {},
   "outputs": [],
   "source": [
    "def get_explanations(data, strategy='mtl', layer_id=0, head_id=0):\n",
    "    all_tokens = []\n",
    "    all_masks = []\n",
    "    all_explanations = []\n",
    "    all_outputs = []\n",
    "    c = 1\n",
    "    for x, y in dataloader(data, tokenizer, batch_size=batch_size, max_len=max_len, shuffle=False):\n",
    "        print('{} of {}'.format(c, len(data) // batch_size + 1), end='\\r')\n",
    "        c += 1\n",
    "        \n",
    "        # get teacher output\n",
    "        y_teacher, teacher_attn = teacher.apply(teacher_params, **x, deterministic=True)\n",
    "        if task_type == \"classification\":\n",
    "            y_teacher = jnp.argmax(y_teacher, axis=-1)\n",
    "        \n",
    "        # use the explanation given to the student by the teacher explainer\n",
    "        if strategy == 'mtl':\n",
    "            # get explanation from the teacher explainer\n",
    "            teacher_expl, _ = teacher_explainer.apply(teacher_explainer_params, x, teacher_attn)\n",
    "        \n",
    "        # use the explanation from the best head at the best layer (according to the coefficients)\n",
    "        elif strategy == 'top_layer_head':\n",
    "            # batch x layers x heads x seqlen x seqlen\n",
    "            all_attentions = jnp.stack(teacher_attn['attentions']).transpose([1, 0, 2, 3, 4])\n",
    "            num_layers = all_attentions.shape[1] \n",
    "            num_heads = all_attentions.shape[2]\n",
    "\n",
    "            # get the attention from the teacher associated with the top head coeff\n",
    "            head_coeffs = sparsemax(teacher_explainer_params['params']['head_coeffs'])\n",
    "            top_joint_id = jnp.argmax(head_coeffs).item()\n",
    "            top_layer_id = top_joint_id // num_heads\n",
    "            top_head_id = top_joint_id % num_heads\n",
    "            attn = all_attentions[:, top_layer_id, top_head_id]\n",
    "            mask = x['attention_mask']\n",
    "            teacher_expl = (attn * mask[:, :, None]).sum(-2) / mask.sum(-1)[:, None]\n",
    "        \n",
    "        # average a specific layer\n",
    "        elif strategy == 'layer_average':\n",
    "            all_attentions = jnp.stack(teacher_attn['attentions']).transpose([1, 0, 2, 3, 4])\n",
    "            attn = all_attentions[:, layer_id].mean(1)\n",
    "            mask = x['attention_mask']\n",
    "            teacher_expl = (attn * mask[:, :, None]).sum(-2) / mask.sum(-1)[:, None]\n",
    "        \n",
    "        # use a specific head at a specific layer\n",
    "        elif strategy == 'layer_head':\n",
    "            all_attentions = jnp.stack(teacher_attn['attentions']).transpose([1, 0, 2, 3, 4])\n",
    "            attn = all_attentions[:, layer_id, head_id]\n",
    "            mask = x['attention_mask']\n",
    "            teacher_expl = (attn * mask[:, :, None]).sum(-2) / mask.sum(-1)[:, None]\n",
    "        \n",
    "        # return all nonzero attention explanations (not tested)\n",
    "        else:\n",
    "            # get all attentions from the teacher associated with nonzero head coeff\n",
    "            head_coeffs = head_coeffs.reshape(num_layers, num_heads)\n",
    "            nonzero_rows, nonzero_cols = head_coeffs.nonzero()\n",
    "            num_nonzero = len(nonzero_rows)\n",
    "            attn = jnp.stack([\n",
    "                all_attentions[:, r, c] for r, c in zip(nonzero_rows.tolist(), nonzero_cols.tolist())\n",
    "            ]).transpose([1, 0, 2, 3])  # batch, num_nonzero, seqlen, seqlen\n",
    "            mask = x['attention_mask']\n",
    "            teacher_expl = (attn * mask[..., None]).sum(-2) / mask.sum(-1)[..., None]\n",
    "\n",
    "        # convert everything to lists\n",
    "        batch_ids = x['input_ids'].tolist()\n",
    "        batch_tokens = [tokenizer.convert_ids_to_tokens(ids) for ids in batch_ids]\n",
    "        batch_masks = [[tk.startswith('▁') for tk in tokens] for tokens in batch_tokens]\n",
    "        batch_expls = teacher_expl.tolist()\n",
    "        \n",
    "        # filter out pad\n",
    "        batch_valid_len = x['attention_mask'].sum(-1).tolist()\n",
    "        for i in range(len(batch_valid_len)):\n",
    "            n = batch_valid_len[i]\n",
    "            batch_ids[i] = batch_ids[i][:n]\n",
    "            batch_tokens[i] = batch_tokens[i][:n]\n",
    "            batch_masks[i] = batch_masks[i][:n]\n",
    "            batch_expls[i] = batch_expls[i][:n]\n",
    "        \n",
    "        all_tokens.extend(batch_tokens)\n",
    "        all_masks.extend(batch_masks)\n",
    "        all_explanations.extend(batch_expls)\n",
    "        all_outputs.extend(y_teacher.tolist())\n",
    "\n",
    "    return all_tokens, all_masks, all_explanations, all_outputs"
   ]
  },
  {
   "cell_type": "code",
   "execution_count": 78,
   "id": "17ead4a0",
   "metadata": {
    "scrolled": true
   },
   "outputs": [
    {
     "name": "stdout",
     "output_type": "stream",
     "text": [
      "63 of 63\r"
     ]
    },
    {
     "data": {
      "text/plain": [
       "[1000, 1000, 1000, 1000]"
      ]
     },
     "execution_count": 78,
     "metadata": {},
     "output_type": "execute_result"
    }
   ],
   "source": [
    "valid_tokens, valid_masks, valid_explanations, valid_outputs = get_explanations(\n",
    "    valid_data, strategy='mtl'\n",
    ")\n",
    "list(map(len, [valid_tokens, valid_masks, valid_explanations, valid_outputs]))"
   ]
  },
  {
   "cell_type": "markdown",
   "id": "c2ab6508",
   "metadata": {},
   "source": [
    "### Aggregate scores for word pieces in SRC and MT independently"
   ]
  },
  {
   "cell_type": "code",
   "execution_count": 79,
   "id": "31a1ae7a",
   "metadata": {},
   "outputs": [],
   "source": [
    "import torch\n",
    "from utils import aggregate_pieces\n",
    "\n",
    "def get_src_and_mt_explanations(all_tokens, all_fp_masks, all_explanations, reduction):\n",
    "    src_expls = []\n",
    "    mt_expls = []\n",
    "    src_pieces = []\n",
    "    mt_pieces = []\n",
    "    for tokens, expl, fp_mask in zip(all_tokens, all_explanations, all_fp_masks):\n",
    "        # split data into src and mt (assuming \"<s> src </s> mt </s>\" format without CLS for mt) \n",
    "        src_len = tokens.index(tokenizer.sep_token) + 1\n",
    "        src_tokens, mt_tokens = tokens[:src_len], tokens[src_len:]\n",
    "        src_expl, mt_expl = expl[:src_len], expl[src_len:]\n",
    "        src_fp_mask, mt_fp_mask = fp_mask[:src_len], fp_mask[src_len:]\n",
    "        \n",
    "        # aggregate word pieces scores (use my old good torch function)\n",
    "        agg_src_expl = aggregate_pieces(torch.tensor(src_expl), torch.tensor(src_fp_mask), reduction)\n",
    "        agg_mt_expl = aggregate_pieces(torch.tensor(mt_expl), torch.tensor(mt_fp_mask), reduction)\n",
    "        \n",
    "        # remove <s> and </s> from src\n",
    "        agg_src_expl = agg_src_expl.tolist()[1:-1]\n",
    "        # remove </s> from mt\n",
    "        agg_mt_expl = agg_mt_expl.tolist()[:-1]\n",
    "        \n",
    "        src_pieces.append(src_tokens)\n",
    "        mt_pieces.append(mt_tokens)\n",
    "        src_expls.append(agg_src_expl)\n",
    "        mt_expls.append(agg_mt_expl)\n",
    "    return src_expls, mt_expls, src_pieces, mt_pieces"
   ]
  },
  {
   "cell_type": "code",
   "execution_count": 80,
   "id": "e9736e42",
   "metadata": {},
   "outputs": [],
   "source": [
    "reduction = 'sum'\n",
    "src_expls, mt_expls, src_pieces, mt_pieces = get_src_and_mt_explanations(\n",
    "    valid_tokens, valid_masks, valid_explanations, reduction=reduction\n",
    ")"
   ]
  },
  {
   "cell_type": "markdown",
   "id": "99616e11",
   "metadata": {},
   "source": [
    "## Evaluating explanations by comparing explanations with word-level QE tags"
   ]
  },
  {
   "cell_type": "code",
   "execution_count": 81,
   "id": "874d3715",
   "metadata": {},
   "outputs": [],
   "source": [
    "# simulating predictions\n",
    "gold_src_tokens = [inp['original'].split() for inp in valid_data]\n",
    "gold_mt_tokens = [inp['translation'].split() for inp in valid_data]\n",
    "gold_expls_src = [inp['src_tags'] for inp in valid_data]\n",
    "gold_expls_mt = [inp['mt_tags'] for inp in valid_data]\n",
    "gold_scores = [inp['z_mean'] for inp in valid_data]\n",
    "\n",
    "pred_expls_src = src_expls\n",
    "pred_expls_mt = mt_expls\n",
    "pred_scores = unroll(valid_outputs)"
   ]
  },
  {
   "cell_type": "code",
   "execution_count": 82,
   "id": "a0a6069c",
   "metadata": {},
   "outputs": [
    {
     "name": "stdout",
     "output_type": "stream",
     "text": [
      "Pearson: 0.6343\n",
      "Spearman: 0.6369\n",
      "MAE: 0.6692\n",
      "RMSE: 0.8001\n"
     ]
    }
   ],
   "source": [
    "_ = evaluate_sentence_level(gold_scores, pred_scores)"
   ]
  },
  {
   "cell_type": "code",
   "execution_count": 83,
   "id": "beb03a6b",
   "metadata": {},
   "outputs": [
    {
     "name": "stdout",
     "output_type": "stream",
     "text": [
      "AUC score: 0.6343\n",
      "AP score: 0.5172\n",
      "Recall at top-K: 0.3914\n"
     ]
    }
   ],
   "source": [
    "_ = evaluate_word_level(gold_expls_src, pred_expls_src)"
   ]
  },
  {
   "cell_type": "code",
   "execution_count": 84,
   "id": "95bfff3d",
   "metadata": {},
   "outputs": [
    {
     "name": "stdout",
     "output_type": "stream",
     "text": [
      "AUC score: 0.6094\n",
      "AP score: 0.4875\n",
      "Recall at top-K: 0.3731\n"
     ]
    }
   ],
   "source": [
    "_ = evaluate_word_level(gold_expls_mt, pred_expls_mt)"
   ]
  },
  {
   "cell_type": "markdown",
   "id": "42200a20",
   "metadata": {},
   "source": [
    "## Visualizing explanations"
   ]
  },
  {
   "cell_type": "code",
   "execution_count": 51,
   "id": "7617ac93",
   "metadata": {},
   "outputs": [],
   "source": [
    "def detokenize(pieces):\n",
    "    return ''.join(pieces).replace('▁', ' ').replace('</s>', ' </s>')\n",
    "\n",
    "def colorize_twoway(words, color_array, label='GOLD', max_width_shown=1800):\n",
    "    template_pos = '<span class=\"barcode\"; style=\"color: black; background-color: rgba(0, 255, 0, {}); display:inline-block; font-size:12px;\">&nbsp {} &nbsp</span>'\n",
    "    template_neg = '<span class=\"barcode\"; style=\"color: black; background-color: rgba(255, 0, 0, {}); display:inline-block; font-size:12px;\">&nbsp {} &nbsp</span>'\n",
    "    colored_string = ''\n",
    "    f = lambda w: w.replace('<', 'ᐸ').replace('>', 'ᐳ')\n",
    "    for word, color in zip(words, color_array / color_array.abs().max()):\n",
    "        if color >= 0:\n",
    "            colored_string += template_pos.format(color, f(word))\n",
    "        else:\n",
    "            colored_string += template_neg.format(-color, f(word))\n",
    "    html_text = '<div style=\"100%\">{}:&nbsp;&nbsp; {}</div>'.format(label, colored_string)\n",
    "    display(HTML(html_text))\n",
    "\n",
    "def show_explanation(tokens, tags, explanation):\n",
    "    import torch\n",
    "    colorize_twoway(tokens.split(), torch.tensor(tags), label='gold')\n",
    "    colorize_twoway(tokens.split(), torch.tensor(explanation), label='pred')"
   ]
  },
  {
   "cell_type": "code",
   "execution_count": 52,
   "id": "f5c8bb1a",
   "metadata": {},
   "outputs": [
    {
     "name": "stdout",
     "output_type": "stream",
     "text": [
      "SRC:\n",
      "----\n"
     ]
    },
    {
     "data": {
      "text/html": [
       "<div style=\"100%\">gold:&nbsp;&nbsp; <span class=\"barcode\"; style=\"color: black; background-color: rgba(0, 255, 0, 0.0); display:inline-block; font-size:12px;\">&nbsp Kaks &nbsp</span><span class=\"barcode\"; style=\"color: black; background-color: rgba(0, 255, 0, 0.0); display:inline-block; font-size:12px;\">&nbsp sõdurit &nbsp</span><span class=\"barcode\"; style=\"color: black; background-color: rgba(0, 255, 0, 0.0); display:inline-block; font-size:12px;\">&nbsp sai &nbsp</span><span class=\"barcode\"; style=\"color: black; background-color: rgba(0, 255, 0, 0.0); display:inline-block; font-size:12px;\">&nbsp vigastada &nbsp</span><span class=\"barcode\"; style=\"color: black; background-color: rgba(0, 255, 0, 0.0); display:inline-block; font-size:12px;\">&nbsp ja &nbsp</span><span class=\"barcode\"; style=\"color: black; background-color: rgba(0, 255, 0, 0.0); display:inline-block; font-size:12px;\">&nbsp toimetati &nbsp</span><span class=\"barcode\"; style=\"color: black; background-color: rgba(0, 255, 0, 0.0); display:inline-block; font-size:12px;\">&nbsp ravile &nbsp</span><span class=\"barcode\"; style=\"color: black; background-color: rgba(0, 255, 0, 1.0); display:inline-block; font-size:12px;\">&nbsp Tshinvali &nbsp</span><span class=\"barcode\"; style=\"color: black; background-color: rgba(0, 255, 0, 0.0); display:inline-block; font-size:12px;\">&nbsp haiglasse &nbsp</span><span class=\"barcode\"; style=\"color: black; background-color: rgba(0, 255, 0, 0.0); display:inline-block; font-size:12px;\">&nbsp . &nbsp</span></div>"
      ],
      "text/plain": [
       "<IPython.core.display.HTML object>"
      ]
     },
     "metadata": {},
     "output_type": "display_data"
    },
    {
     "data": {
      "text/html": [
       "<div style=\"100%\">pred:&nbsp;&nbsp; <span class=\"barcode\"; style=\"color: black; background-color: rgba(0, 255, 0, 0.385297566652298); display:inline-block; font-size:12px;\">&nbsp Kaks &nbsp</span><span class=\"barcode\"; style=\"color: black; background-color: rgba(0, 255, 0, 1.0); display:inline-block; font-size:12px;\">&nbsp sõdurit &nbsp</span><span class=\"barcode\"; style=\"color: black; background-color: rgba(0, 255, 0, 0.2902286946773529); display:inline-block; font-size:12px;\">&nbsp sai &nbsp</span><span class=\"barcode\"; style=\"color: black; background-color: rgba(0, 255, 0, 0.6860172748565674); display:inline-block; font-size:12px;\">&nbsp vigastada &nbsp</span><span class=\"barcode\"; style=\"color: black; background-color: rgba(0, 255, 0, 0.3587360978126526); display:inline-block; font-size:12px;\">&nbsp ja &nbsp</span><span class=\"barcode\"; style=\"color: black; background-color: rgba(0, 255, 0, 0.48700717091560364); display:inline-block; font-size:12px;\">&nbsp toimetati &nbsp</span><span class=\"barcode\"; style=\"color: black; background-color: rgba(0, 255, 0, 0.5928292870521545); display:inline-block; font-size:12px;\">&nbsp ravile &nbsp</span><span class=\"barcode\"; style=\"color: black; background-color: rgba(0, 255, 0, 0.5308551788330078); display:inline-block; font-size:12px;\">&nbsp Tshinvali &nbsp</span><span class=\"barcode\"; style=\"color: black; background-color: rgba(0, 255, 0, 0.8335003852844238); display:inline-block; font-size:12px;\">&nbsp haiglasse &nbsp</span><span class=\"barcode\"; style=\"color: black; background-color: rgba(0, 255, 0, 0.5631521940231323); display:inline-block; font-size:12px;\">&nbsp . &nbsp</span></div>"
      ],
      "text/plain": [
       "<IPython.core.display.HTML object>"
      ]
     },
     "metadata": {},
     "output_type": "display_data"
    },
    {
     "name": "stdout",
     "output_type": "stream",
     "text": [
      "MT:\n",
      "----\n"
     ]
    },
    {
     "data": {
      "text/html": [
       "<div style=\"100%\">gold:&nbsp;&nbsp; <span class=\"barcode\"; style=\"color: black; background-color: rgba(0, 255, 0, 0.0); display:inline-block; font-size:12px;\">&nbsp Two &nbsp</span><span class=\"barcode\"; style=\"color: black; background-color: rgba(0, 255, 0, 0.0); display:inline-block; font-size:12px;\">&nbsp soldiers &nbsp</span><span class=\"barcode\"; style=\"color: black; background-color: rgba(0, 255, 0, 0.0); display:inline-block; font-size:12px;\">&nbsp were &nbsp</span><span class=\"barcode\"; style=\"color: black; background-color: rgba(0, 255, 0, 0.0); display:inline-block; font-size:12px;\">&nbsp injured &nbsp</span><span class=\"barcode\"; style=\"color: black; background-color: rgba(0, 255, 0, 0.0); display:inline-block; font-size:12px;\">&nbsp and &nbsp</span><span class=\"barcode\"; style=\"color: black; background-color: rgba(0, 255, 0, 0.0); display:inline-block; font-size:12px;\">&nbsp brought &nbsp</span><span class=\"barcode\"; style=\"color: black; background-color: rgba(0, 255, 0, 0.0); display:inline-block; font-size:12px;\">&nbsp to &nbsp</span><span class=\"barcode\"; style=\"color: black; background-color: rgba(0, 255, 0, 1.0); display:inline-block; font-size:12px;\">&nbsp Tskinvali &nbsp</span><span class=\"barcode\"; style=\"color: black; background-color: rgba(0, 255, 0, 1.0); display:inline-block; font-size:12px;\">&nbsp 's &nbsp</span><span class=\"barcode\"; style=\"color: black; background-color: rgba(0, 255, 0, 0.0); display:inline-block; font-size:12px;\">&nbsp hospital &nbsp</span><span class=\"barcode\"; style=\"color: black; background-color: rgba(0, 255, 0, 0.0); display:inline-block; font-size:12px;\">&nbsp for &nbsp</span><span class=\"barcode\"; style=\"color: black; background-color: rgba(0, 255, 0, 0.0); display:inline-block; font-size:12px;\">&nbsp treatment &nbsp</span><span class=\"barcode\"; style=\"color: black; background-color: rgba(0, 255, 0, 0.0); display:inline-block; font-size:12px;\">&nbsp . &nbsp</span></div>"
      ],
      "text/plain": [
       "<IPython.core.display.HTML object>"
      ]
     },
     "metadata": {},
     "output_type": "display_data"
    },
    {
     "data": {
      "text/html": [
       "<div style=\"100%\">pred:&nbsp;&nbsp; <span class=\"barcode\"; style=\"color: black; background-color: rgba(0, 255, 0, 0.2647077143192291); display:inline-block; font-size:12px;\">&nbsp Two &nbsp</span><span class=\"barcode\"; style=\"color: black; background-color: rgba(0, 255, 0, 0.7094807028770447); display:inline-block; font-size:12px;\">&nbsp soldiers &nbsp</span><span class=\"barcode\"; style=\"color: black; background-color: rgba(0, 255, 0, 0.37275204062461853); display:inline-block; font-size:12px;\">&nbsp were &nbsp</span><span class=\"barcode\"; style=\"color: black; background-color: rgba(0, 255, 0, 1.0); display:inline-block; font-size:12px;\">&nbsp injured &nbsp</span><span class=\"barcode\"; style=\"color: black; background-color: rgba(0, 255, 0, 0.34298601746559143); display:inline-block; font-size:12px;\">&nbsp and &nbsp</span><span class=\"barcode\"; style=\"color: black; background-color: rgba(0, 255, 0, 0.31514430046081543); display:inline-block; font-size:12px;\">&nbsp brought &nbsp</span><span class=\"barcode\"; style=\"color: black; background-color: rgba(0, 255, 0, 0.34347739815711975); display:inline-block; font-size:12px;\">&nbsp to &nbsp</span><span class=\"barcode\"; style=\"color: black; background-color: rgba(0, 255, 0, 0.9033845067024231); display:inline-block; font-size:12px;\">&nbsp Tskinvali &nbsp</span><span class=\"barcode\"; style=\"color: black; background-color: rgba(0, 255, 0, 0.4786287546157837); display:inline-block; font-size:12px;\">&nbsp 's &nbsp</span><span class=\"barcode\"; style=\"color: black; background-color: rgba(0, 255, 0, 0.20396800339221954); display:inline-block; font-size:12px;\">&nbsp hospital &nbsp</span><span class=\"barcode\"; style=\"color: black; background-color: rgba(0, 255, 0, 0.3048848509788513); display:inline-block; font-size:12px;\">&nbsp for &nbsp</span><span class=\"barcode\"; style=\"color: black; background-color: rgba(0, 255, 0, 0.3074628710746765); display:inline-block; font-size:12px;\">&nbsp treatment &nbsp</span><span class=\"barcode\"; style=\"color: black; background-color: rgba(0, 255, 0, 0.5012463331222534); display:inline-block; font-size:12px;\">&nbsp . &nbsp</span></div>"
      ],
      "text/plain": [
       "<IPython.core.display.HTML object>"
      ]
     },
     "metadata": {},
     "output_type": "display_data"
    }
   ],
   "source": [
    "idx = 0\n",
    "print('SRC:')\n",
    "print('----')\n",
    "show_explanation(valid_data[idx]['original'], gold_expls_src[idx], pred_expls_src[idx])\n",
    "print('MT:')\n",
    "print('----')\n",
    "show_explanation(valid_data[idx]['translation'], gold_expls_mt[idx], pred_expls_mt[idx])"
   ]
  },
  {
   "cell_type": "markdown",
   "id": "ae36857a",
   "metadata": {},
   "source": [
    "## Plotting the distribution of predictions and AUC scores"
   ]
  },
  {
   "cell_type": "code",
   "execution_count": 53,
   "id": "72f1cf53",
   "metadata": {},
   "outputs": [],
   "source": [
    "# define options for seaborn\n",
    "custom_params = {\n",
    "    'axes.spines.right': False,\n",
    "    'axes.spines.top': False,\n",
    "    'grid.color': '.85',\n",
    "    'grid.linestyle': ':'\n",
    "}\n",
    "_ = sns.set_theme(style='whitegrid', rc=custom_params),\n",
    "\n",
    "def plot_da_vs_expl_metric(metric_fn, das, e_golds, e_preds):\n",
    "    x = []\n",
    "    y = []\n",
    "    for da, gold, pred in zip(das, e_golds, e_preds):\n",
    "        if sum(gold) == 0 or sum(gold) == len(gold):\n",
    "            continue\n",
    "        y.append(metric_fn(gold, pred))\n",
    "        x.append(da)\n",
    "    x = np.array(x)\n",
    "    y = np.array(y)\n",
    "    fig, axs = plt.subplots(1, 3, figsize=(16, 4))\n",
    "    sns.histplot(x=x, y=y, ax=axs[0])\n",
    "    axs[0].set_xlabel('da')\n",
    "    axs[0].set_ylabel(str(metric_fn).split()[1])\n",
    "    sns.histplot(x, bins=20, ax=axs[1])\n",
    "    axs[1].set_xlabel('da')\n",
    "    sns.histplot(y, bins=20, ax=axs[2])\n",
    "    axs[2].set_xlabel(str(metric_fn).split()[1])"
   ]
  },
  {
   "cell_type": "code",
   "execution_count": 54,
   "id": "f6a0b03c",
   "metadata": {},
   "outputs": [
    {
     "data": {
      "image/png": "[encoded data removed]",
      "text/plain": [
       "<Figure size 1152x288 with 3 Axes>"
      ]
     },
     "metadata": {},
     "output_type": "display_data"
    }
   ],
   "source": [
    "# plot predicted DA vs AUC for src and mt\n",
    "plot_da_vs_expl_metric(roc_auc_score, pred_scores, gold_expls_src, pred_expls_src)"
   ]
  },
  {
   "cell_type": "code",
   "execution_count": 55,
   "id": "82cfbef9",
   "metadata": {},
   "outputs": [
    {
     "data": {
      "image/png": "[encoded data removed]",
      "text/plain": [
       "<Figure size 1152x288 with 3 Axes>"
      ]
     },
     "metadata": {},
     "output_type": "display_data"
    }
   ],
   "source": [
    "plot_da_vs_expl_metric(roc_auc_score, pred_scores, gold_expls_mt, pred_expls_mt)"
   ]
  },
  {
   "cell_type": "markdown",
   "id": "0ef63322",
   "metadata": {},
   "source": [
    "## Plotting attention map"
   ]
  },
  {
   "cell_type": "code",
   "execution_count": null,
   "id": "94fdb8ab",
   "metadata": {},
   "outputs": [],
   "source": [
    "# dummy code, just to exemplify\n",
    "fig, axs = plt.subplots(2, 3, figsize=(16, 11))\n",
    "fig.tight_layout(pad=3)\n",
    "for i in range(6):\n",
    "    ax = axs[i//3, i%3]\n",
    "    tokens = valid_data[i]['translation'].split()\n",
    "    n = len(tokens)\n",
    "    softmax = lambda x: np.exp(x) / np.exp(x).sum()\n",
    "    A = np.stack([softmax(np.random.randn(n)) for _ in range(n)])\n",
    "    df = pd.DataFrame(A, columns=tokens, index=tokens)\n",
    "    sns.heatmap(df, vmax=1, cmap=\"Greens\", square=True, cbar=False, ax=ax)"
   ]
  },
  {
   "cell_type": "markdown",
   "id": "6d8d9a17",
   "metadata": {},
   "source": [
    "## Check results for all layers (slooow -> very inefficient)"
   ]
  },
  {
   "cell_type": "code",
   "execution_count": 77,
   "id": "a58cd627",
   "metadata": {},
   "outputs": [
    {
     "name": "stdout",
     "output_type": "stream",
     "text": [
      "LAYER: 0\n",
      "AUC score: 0.5017\n",
      "AP score: 0.4072\n",
      "Recall at top-K: 0.2793\n",
      "AUC score: 0.4502\n",
      "AP score: 0.3441\n",
      "Recall at top-K: 0.2530\n",
      "---\n",
      "LAYER: 1\n",
      "AUC score: 0.4424\n",
      "AP score: 0.3761\n",
      "Recall at top-K: 0.2511\n",
      "AUC score: 0.4416\n",
      "AP score: 0.3633\n",
      "Recall at top-K: 0.2625\n",
      "---\n",
      "LAYER: 2\n",
      "AUC score: 0.4085\n",
      "AP score: 0.3610\n",
      "Recall at top-K: 0.2340\n",
      "AUC score: 0.4583\n",
      "AP score: 0.3726\n",
      "Recall at top-K: 0.2742\n",
      "---\n",
      "LAYER: 3\n",
      "AUC score: 0.3710\n",
      "AP score: 0.3462\n",
      "Recall at top-K: 0.2210\n",
      "AUC score: 0.4306\n",
      "AP score: 0.3584\n",
      "Recall at top-K: 0.2589\n",
      "---\n",
      "LAYER: 4\n",
      "AUC score: 0.4496\n",
      "AP score: 0.3777\n",
      "Recall at top-K: 0.2483\n",
      "AUC score: 0.5065\n",
      "AP score: 0.4023\n",
      "Recall at top-K: 0.3000\n",
      "---\n",
      "LAYER: 5\n",
      "AUC score: 0.4149\n",
      "AP score: 0.3617\n",
      "Recall at top-K: 0.2365\n",
      "AUC score: 0.4964\n",
      "AP score: 0.3944\n",
      "Recall at top-K: 0.2975\n",
      "---\n",
      "LAYER: 6\n",
      "AUC score: 0.4155\n",
      "AP score: 0.3673\n",
      "Recall at top-K: 0.2405\n",
      "AUC score: 0.5363\n",
      "AP score: 0.4277\n",
      "Recall at top-K: 0.3334\n",
      "---\n",
      "LAYER: 7\n",
      "AUC score: 0.4179\n",
      "AP score: 0.3525\n",
      "Recall at top-K: 0.2269\n",
      "AUC score: 0.5348\n",
      "AP score: 0.4333\n",
      "Recall at top-K: 0.3385\n",
      "---\n",
      "LAYER: 8\n",
      "AUC score: 0.4314\n",
      "AP score: 0.3664\n",
      "Recall at top-K: 0.2400\n",
      "AUC score: 0.5559\n",
      "AP score: 0.4499\n",
      "Recall at top-K: 0.3513\n",
      "---\n",
      "LAYER: 9\n",
      "AUC score: 0.4741\n",
      "AP score: 0.3952\n",
      "Recall at top-K: 0.2735\n",
      "AUC score: 0.6083\n",
      "AP score: 0.5041\n",
      "Recall at top-K: 0.4069\n",
      "---\n",
      "LAYER: 10\n",
      "AUC score: 0.6491\n",
      "AP score: 0.5244\n",
      "Recall at top-K: 0.3865\n",
      "AUC score: 0.6471\n",
      "AP score: 0.5169\n",
      "Recall at top-K: 0.3990\n",
      "---\n",
      "LAYER: 11\n",
      "AUC score: 0.4902\n",
      "AP score: 0.4012\n",
      "Recall at top-K: 0.2669\n",
      "AUC score: 0.4787\n",
      "AP score: 0.3671\n",
      "Recall at top-K: 0.2690\n",
      "---\n"
     ]
    }
   ],
   "source": [
    "for layer_id in range(12):\n",
    "    valid_tokens, valid_masks, valid_explanations, valid_outputs = get_explanations(\n",
    "        valid_data, strategy='layer_average', layer_id=layer_id\n",
    "    )\n",
    "    src_expls, mt_expls, src_pieces, mt_pieces = get_src_and_mt_explanations(\n",
    "        valid_tokens, valid_masks, valid_explanations, reduction='sum'\n",
    "    )\n",
    "    print('LAYER: {}'.format(layer_id))\n",
    "    _ = evaluate_word_level(gold_expls_src, src_expls)\n",
    "    _ = evaluate_word_level(gold_expls_mt, mt_expls)\n",
    "    print('---')"
   ]
  },
  {
   "cell_type": "markdown",
   "id": "b99d42da",
   "metadata": {},
   "source": [
    "## Check results for all heads in all layers (I'm not even going to try this)"
   ]
  },
  {
   "cell_type": "code",
   "execution_count": null,
   "id": "18a7d2ae",
   "metadata": {},
   "outputs": [
    {
     "name": "stdout",
     "output_type": "stream",
     "text": [
      "14 of 63\r"
     ]
    }
   ],
   "source": [
    "for layer_id in range(12):\n",
    "    for head_id in range(12):\n",
    "        valid_tokens, valid_masks, valid_explanations, valid_outputs = get_explanations(\n",
    "            valid_data, strategy='layer_head', layer_id=layer_id, head_id=head_id\n",
    "        )\n",
    "        src_expls, mt_expls, src_pieces, mt_pieces = get_src_and_mt_explanations(\n",
    "            valid_tokens, valid_masks, valid_explanations, reduction='sum'\n",
    "        )\n",
    "        print('LAYER: {} | HEAD: {}'.format(layer_id, head_id))\n",
    "        _ = evaluate_word_level(gold_expls_src, src_expls)\n",
    "        _ = evaluate_word_level(gold_expls_mt, mt_expls)\n",
    "        print('---')"
   ]
  },
  {
   "cell_type": "code",
   "execution_count": null,
   "id": "94e0970c",
   "metadata": {},
   "outputs": [],
   "source": []
  }
 ],
 "metadata": {
  "kernelspec": {
   "display_name": "Python 3 (ipykernel)",
   "language": "python",
   "name": "python3"
  },
  "language_info": {
   "codemirror_mode": {
    "name": "ipython",
    "version": 3
   },
   "file_extension": ".py",
   "mimetype": "text/x-python",
   "name": "python",
   "nbconvert_exporter": "python",
   "pygments_lexer": "ipython3",
   "version": "3.8.10"
  }
 },
 "nbformat": 4,
 "nbformat_minor": 5
}
