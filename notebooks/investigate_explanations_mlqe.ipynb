{
 "cells": [
  {
   "cell_type": "code",
   "execution_count": 1,
   "id": "fdf4e68a",
   "metadata": {},
   "outputs": [
    {
     "name": "stdout",
     "output_type": "stream",
     "text": [
      "env: CUDA_DEVICE_ORDER=PCI_BUS_ID\n",
      "env: CUDA_VISIBLE_DEVICES=5\n"
     ]
    }
   ],
   "source": [
    "%env CUDA_DEVICE_ORDER=PCI_BUS_ID\n",
    "%env CUDA_VISIBLE_DEVICES=5"
   ]
  },
  {
   "cell_type": "code",
   "execution_count": 2,
   "id": "5d207c95",
   "metadata": {},
   "outputs": [],
   "source": [
    "import torch\n",
    "import jax\n",
    "import jax.numpy as jnp\n",
    "import flax\n",
    "from entmax_jax import sparsemax\n",
    "import numpy as np\n",
    "from matplotlib import pyplot as plt\n",
    "import seaborn as sns\n",
    "import pandas as pd\n",
    "from IPython.display import display, HTML\n",
    "from functools import partial\n",
    "import json\n",
    "from entmax_jax.activations import sparsemax, entmax15\n",
    "from sklearn.metrics import roc_auc_score, average_precision_score\n",
    "\n",
    "from meta_expl.explainers import load_explainer\n",
    "from meta_expl.models import load_model\n",
    "from meta_expl.data.mlqe import dataloader\n",
    "from utils import aggregate_pieces\n",
    "\n",
    "from evaluate_explanations import evaluate_word_level, evaluate_sentence_level, aggregate_pieces"
   ]
  },
  {
   "cell_type": "markdown",
   "id": "5208e500",
   "metadata": {},
   "source": [
    "### plot utils"
   ]
  },
  {
   "cell_type": "code",
   "execution_count": 3,
   "id": "b1ff1f39",
   "metadata": {},
   "outputs": [],
   "source": [
    "def detokenize(pieces):\n",
    "    return ''.join(pieces).replace('▁', ' ').replace('</s>', ' </s>')\n",
    "\n",
    "def colorize_twoway(words, color_array, label='GOLD', max_width_shown=1800):\n",
    "    template_pos = '<span class=\"barcode\"; style=\"color: black; background-color: rgba(0, 255, 0, {}); display:inline-block; font-size:12px;\">&nbsp {} &nbsp</span>'\n",
    "    template_neg = '<span class=\"barcode\"; style=\"color: black; background-color: rgba(255, 0, 0, {}); display:inline-block; font-size:12px;\">&nbsp {} &nbsp</span>'\n",
    "    colored_string = ''\n",
    "    f = lambda w: w.replace('<', 'ᐸ').replace('>', 'ᐳ')\n",
    "    for word, color in zip(words, color_array):\n",
    "        if color >= 0:\n",
    "            colored_string += template_pos.format(color, f(word))\n",
    "        else:\n",
    "            colored_string += template_neg.format(-color, f(word))\n",
    "    html_text = '<div style=\"width:100%\">{}:&nbsp;&nbsp; {}</div>'.format(label, colored_string)\n",
    "    display(HTML(html_text))\n",
    "\n",
    "def show_explanation(tokens, tags, explanation):\n",
    "    colorize_twoway(tokens.split(), torch.tensor(tags), label='gold')\n",
    "    colorize_twoway(tokens.split(), torch.tensor(explanation), label='pred')\n",
    "\n",
    "def plot_attention_map(words, attn_weights, vmax=1, ax=None):\n",
    "    df = pd.DataFrame(attn_weights, columns=words, index=words)\n",
    "    sns.heatmap(df, vmax=vmax, cmap=\"Greens\", square=True, cbar=False, ax=ax)"
   ]
  },
  {
   "cell_type": "markdown",
   "id": "95fa38ea",
   "metadata": {},
   "source": [
    "### data utils"
   ]
  },
  {
   "cell_type": "code",
   "execution_count": 4,
   "id": "0507ef66",
   "metadata": {},
   "outputs": [],
   "source": [
    "# data utils\n",
    "def unroll(list_of_lists):\n",
    "    return [e for ell in list_of_lists for e in ell]\n",
    "\n",
    "def read_data(lp, split='dev'):\n",
    "    def tags_to_ints(line):\n",
    "        return list(map(int, line.strip().replace('OK', '0').replace('BAD', '1').split()))\n",
    "    data = {\n",
    "        'original': [line.strip() for line in open('data/mlqepe/{}/{}.src'.format(lp, split), 'r')],\n",
    "        'translation': [line.strip() for line in open('data/mlqepe/{}/{}.mt'.format(lp, split), 'r')],\n",
    "        'z_mean': [float(line.strip()) for line in open('data/mlqepe/{}/{}.da'.format(lp, split), 'r')],\n",
    "        'src_tags': [tags_to_ints(line) for line in open('data/mlqepe/{}/{}.src-tags'.format(lp, split), 'r')],\n",
    "        'mt_tags': [tags_to_ints(line) for line in open('data/mlqepe/{}/{}.tgt-tags'.format(lp, split), 'r')]\n",
    "    }\n",
    "    data['da'] = data['z_mean']\n",
    "    data = [dict(zip(data.keys(), v)) for v in list(zip(*data.values()))]\n",
    "    return data\n",
    "\n",
    "def read_data_all(lps, split='dev'):\n",
    "    data = {\n",
    "        'original': [],\n",
    "        'translation': [],\n",
    "        'z_mean': [],\n",
    "        'src_tags': [],\n",
    "        'mt_tags': [],\n",
    "    }\n",
    "    data['da'] = data['z_mean']\n",
    "    for lp in lps:\n",
    "        ell = read_data(lp, split)\n",
    "        for key in data.keys():\n",
    "            data[key].extend([d[key] for d in ell])\n",
    "    data = [dict(zip(data.keys(), v)) for v in list(zip(*data.values()))]\n",
    "    return data"
   ]
  },
  {
   "cell_type": "markdown",
   "id": "7bf12421",
   "metadata": {},
   "source": [
    "### define args"
   ]
  },
  {
   "cell_type": "code",
   "execution_count": 5,
   "id": "394d7dc7",
   "metadata": {},
   "outputs": [],
   "source": [
    "# arguments\n",
    "arch = 'xlm-roberta-base'\n",
    "setup = 'static_teacher'  # \"no_teacher\", \"static_teacher\", \"learnable_teacher\"\n",
    "\n",
    "seed = 9\n",
    "max_len = 256\n",
    "batch_size = 16\n",
    "\n",
    "sep_token = \"</s>\" if 'xlm' in arch else \"[SEP]\"\n",
    "num_classes = 1\n",
    "task_type = \"regression\"\n",
    "dataloader = partial(dataloader, sep_token=sep_token)\n",
    "\n",
    "teacher_dir = 'data/mlqe-xlmr-models/teacher_dir'\n",
    "teacher_expl_dir = 'data/mlqe-xlmr-models/teacher_expl_dir'\n",
    "student_dir = 'data/mlqe-xlmr-models/student_dir'\n",
    "student_expl_dir = 'data/mlqe-xlmr-models/student_expl_dir'"
   ]
  },
  {
   "cell_type": "code",
   "execution_count": 6,
   "id": "86f01c05",
   "metadata": {},
   "outputs": [
    {
     "data": {
      "text/plain": [
       "(16, 256)"
      ]
     },
     "execution_count": 6,
     "metadata": {},
     "output_type": "execute_result"
    }
   ],
   "source": [
    "# create dummy inputs for model instantiation\n",
    "input_ids = jnp.ones((batch_size, max_len), jnp.int32)\n",
    "dummy_inputs = {\n",
    "    \"input_ids\": input_ids,\n",
    "    \"attention_mask\": jnp.ones_like(input_ids),\n",
    "    \"token_type_ids\": jnp.arange(jnp.atleast_2d(input_ids).shape[-1]),\n",
    "    \"position_ids\": jnp.ones_like(input_ids),\n",
    "}\n",
    "dummy_inputs['input_ids'].shape"
   ]
  },
  {
   "cell_type": "markdown",
   "id": "f90ea756",
   "metadata": {},
   "source": [
    "### load tokenizer"
   ]
  },
  {
   "cell_type": "code",
   "execution_count": 7,
   "id": "bbf471df",
   "metadata": {},
   "outputs": [
    {
     "name": "stdout",
     "output_type": "stream",
     "text": [
      "</s>\n"
     ]
    }
   ],
   "source": [
    "from transformers import XLMRobertaTokenizerFast\n",
    "tokenizer = XLMRobertaTokenizerFast.from_pretrained(arch)\n",
    "cls_id = tokenizer.cls_token_id\n",
    "sep_id = tokenizer.sep_token_id\n",
    "pad_id = tokenizer.pad_token_id\n",
    "print(tokenizer.sep_token)"
   ]
  },
  {
   "cell_type": "markdown",
   "id": "c7df6d85",
   "metadata": {},
   "source": [
    "### load models and explainers"
   ]
  },
  {
   "cell_type": "code",
   "execution_count": 9,
   "id": "478ee21f",
   "metadata": {},
   "outputs": [],
   "source": [
    "teacher, teacher_params, dummy_state = load_model(teacher_dir, dummy_inputs, batch_size, max_len)\n",
    "teacher_explainer, teacher_explainer_params = load_explainer(teacher_expl_dir, dummy_inputs, state=dummy_state)\n",
    "student, student_params, dummy_state = load_model(student_dir, dummy_inputs, batch_size, max_len)\n",
    "student_explainer, student_explainer_params = load_explainer(student_expl_dir, dummy_inputs, state=dummy_state)"
   ]
  },
  {
   "cell_type": "markdown",
   "id": "f2d09885",
   "metadata": {},
   "source": [
    "### look at the coefficients"
   ]
  },
  {
   "cell_type": "code",
   "execution_count": 10,
   "id": "c2e0f46b",
   "metadata": {
    "scrolled": true
   },
   "outputs": [
    {
     "data": {
      "text/plain": [
       "DeviceArray([[0.05825656, 0.05605122, 0.06579615, 0.06052823, 0.05019351,\n",
       "              0.0858976 , 0.04817941, 0.05621345, 0.01868655, 0.02941416,\n",
       "              0.04372283, 0.05819663],\n",
       "             [0.        , 0.        , 0.        , 0.        , 0.        ,\n",
       "              0.        , 0.        , 0.        , 0.        , 0.        ,\n",
       "              0.        , 0.        ],\n",
       "             [0.        , 0.        , 0.        , 0.        , 0.        ,\n",
       "              0.        , 0.        , 0.        , 0.        , 0.        ,\n",
       "              0.        , 0.        ],\n",
       "             [0.        , 0.        , 0.        , 0.        , 0.        ,\n",
       "              0.        , 0.        , 0.        , 0.        , 0.        ,\n",
       "              0.        , 0.        ],\n",
       "             [0.        , 0.        , 0.        , 0.        , 0.        ,\n",
       "              0.        , 0.        , 0.        , 0.        , 0.        ,\n",
       "              0.0433885 , 0.        ],\n",
       "             [0.        , 0.        , 0.        , 0.        , 0.        ,\n",
       "              0.        , 0.        , 0.        , 0.        , 0.        ,\n",
       "              0.        , 0.        ],\n",
       "             [0.        , 0.        , 0.        , 0.        , 0.        ,\n",
       "              0.        , 0.        , 0.        , 0.        , 0.        ,\n",
       "              0.        , 0.        ],\n",
       "             [0.        , 0.        , 0.        , 0.        , 0.        ,\n",
       "              0.        , 0.        , 0.        , 0.08041232, 0.09685925,\n",
       "              0.        , 0.        ],\n",
       "             [0.        , 0.        , 0.        , 0.        , 0.        ,\n",
       "              0.0302523 , 0.        , 0.03107029, 0.        , 0.        ,\n",
       "              0.        , 0.        ],\n",
       "             [0.        , 0.        , 0.        , 0.        , 0.        ,\n",
       "              0.04859592, 0.        , 0.        , 0.        , 0.        ,\n",
       "              0.        , 0.        ],\n",
       "             [0.        , 0.02883356, 0.        , 0.00945152, 0.        ,\n",
       "              0.        , 0.        , 0.        , 0.        , 0.        ,\n",
       "              0.        , 0.        ],\n",
       "             [0.        , 0.        , 0.        , 0.        , 0.        ,\n",
       "              0.        , 0.        , 0.        , 0.        , 0.        ,\n",
       "              0.        , 0.        ]], dtype=float32)"
      ]
     },
     "execution_count": 10,
     "metadata": {},
     "output_type": "execute_result"
    }
   ],
   "source": [
    "sparsemax(teacher_explainer_params['params']['head_coeffs']).reshape(12, 12)"
   ]
  },
  {
   "cell_type": "code",
   "execution_count": 11,
   "id": "8a706e2d",
   "metadata": {},
   "outputs": [
    {
     "name": "stdout",
     "output_type": "stream",
     "text": [
      "0 0 0.058256563\n",
      "0 1 0.056051224\n",
      "0 2 0.06579615\n",
      "0 3 0.06052823\n",
      "0 4 0.05019351\n",
      "0 5 0.0858976\n",
      "0 6 0.048179414\n",
      "0 7 0.056213446\n",
      "0 8 0.018686546\n",
      "0 9 0.029414164\n",
      "0 10 0.043722827\n",
      "0 11 0.05819663\n",
      "4 10 0.043388497\n",
      "7 8 0.08041232\n",
      "7 9 0.09685925\n",
      "8 5 0.0302523\n",
      "8 7 0.03107029\n",
      "9 5 0.04859592\n",
      "10 1 0.028833564\n",
      "10 3 0.009451524\n"
     ]
    }
   ],
   "source": [
    "hc = sparsemax(teacher_explainer_params['params']['head_coeffs']).reshape(12, 12)\n",
    "for a, b in zip(*hc.nonzero()):\n",
    "    print(a, b, hc[a,b])"
   ]
  },
  {
   "cell_type": "code",
   "execution_count": 13,
   "id": "3e1a7550",
   "metadata": {},
   "outputs": [
    {
     "data": {
      "image/png": "[encoded data removed]",
      "text/plain": [
       "<Figure size 288x288 with 1 Axes>"
      ]
     },
     "metadata": {
      "needs_background": "light"
     },
     "output_type": "display_data"
    }
   ],
   "source": [
    "coeffs = np.asarray(hc)\n",
    "fig, ax = plt.subplots(figsize=(4, 4))\n",
    "ax.imshow(coeffs, cmap='Greens')\n",
    "ax.set_xticks(list(range(12)))\n",
    "ax.set_yticks(list(range(12)))\n",
    "ax.set_xlabel('Layer')\n",
    "ax.set_ylabel('Head')\n",
    "ax.set_title('Head coefficients')\n",
    "plt.savefig('head_coeffs_mlqe_horizontal.pdf', dpi=300, bbox_inches='tight')"
   ]
  },
  {
   "cell_type": "markdown",
   "id": "c2ab6508",
   "metadata": {},
   "source": [
    "### Aggregate scores for word pieces in SRC and MT independently"
   ]
  },
  {
   "cell_type": "code",
   "execution_count": 41,
   "id": "31a1ae7a",
   "metadata": {},
   "outputs": [],
   "source": [
    "def get_src_and_mt_explanations(tokens, fp_mask, expl, reduction):\n",
    "    # split data into src and mt (assuming \"<s> src </s> mt </s>\" format without CLS for mt) \n",
    "    src_len = tokens.index(tokenizer.sep_token) + 1\n",
    "    src_tokens, mt_tokens = tokens[:src_len], tokens[src_len:]\n",
    "    src_expl, mt_expl = expl[:src_len], expl[src_len:]\n",
    "    src_fp_mask, mt_fp_mask = fp_mask[:src_len], fp_mask[src_len:]\n",
    "    # aggregate word pieces scores (use my old good torch function)\n",
    "    agg_src_expl = aggregate_pieces(torch.tensor(src_expl), torch.tensor(src_fp_mask), reduction)\n",
    "    agg_mt_expl = aggregate_pieces(torch.tensor(mt_expl), torch.tensor(mt_fp_mask), reduction)\n",
    "    # remove <s> and </s> from src\n",
    "    agg_src_expl = agg_src_expl.tolist()[1:-1]\n",
    "    # remove </s> from mt\n",
    "    agg_mt_expl = agg_mt_expl.tolist()[:-1]\n",
    "    return agg_src_expl, agg_mt_expl, src_tokens, mt_tokens\n",
    "\n",
    "def get_expl(data, idx=0):\n",
    "    x, y = next(dataloader([data[idx]], tokenizer, batch_size=batch_size, max_len=max_len, shuffle=False))\n",
    "    y_teacher, teacher_attn = teacher.apply(teacher_params, **x, deterministic=True)\n",
    "    teacher_expl, _ = teacher_explainer.apply(teacher_explainer_params, x, teacher_attn)\n",
    "    y_student, student_attn = student.apply(student_params, **x)\n",
    "    student_expl, _ = student_explainer.apply(student_explainer_params, x, student_attn)\n",
    "    batch_ids = x['input_ids'].tolist()\n",
    "    batch_tokens = [tokenizer.convert_ids_to_tokens(ids) for ids in batch_ids]\n",
    "    batch_masks = [[tk.startswith('▁') for tk in tks] for tks in batch_tokens]\n",
    "    teacher_attn = np.asarray(jnp.stack(teacher_attn['attentions']).transpose([1, 0, 2, 3, 4]))\n",
    "    student_attn = np.asarray(jnp.stack(student_attn['attentions']).transpose([1, 0, 2, 3, 4]))\n",
    "    return {\n",
    "        'teacher_attn': teacher_attn[0],\n",
    "        'teacher_expl': teacher_expl.tolist()[0],\n",
    "        'student_attn': student_attn[0],\n",
    "        'student_expl': student_expl.tolist()[0],\n",
    "        'y_teacher': y_teacher.tolist()[0],\n",
    "        'y_student': y_student.tolist()[0],\n",
    "        'tokens': batch_tokens[0],\n",
    "        'masks': batch_masks[0],\n",
    "    }"
   ]
  },
  {
   "cell_type": "code",
   "execution_count": 75,
   "id": "37f39af2",
   "metadata": {},
   "outputs": [
    {
     "name": "stdout",
     "output_type": "stream",
     "text": [
      "Gold:  -0.474398169618508\n",
      "Pred:  [-0.11281611770391464]\n",
      "SRC:\n",
      "----\n"
     ]
    },
    {
     "data": {
      "text/html": [
       "<div style=\"width:100%\">gold:&nbsp;&nbsp; <span class=\"barcode\"; style=\"color: black; background-color: rgba(0, 255, 0, 0); display:inline-block; font-size:12px;\">&nbsp A &nbsp</span><span class=\"barcode\"; style=\"color: black; background-color: rgba(0, 255, 0, 0); display:inline-block; font-size:12px;\">&nbsp realizat &nbsp</span><span class=\"barcode\"; style=\"color: black; background-color: rgba(0, 255, 0, 0); display:inline-block; font-size:12px;\">&nbsp mai &nbsp</span><span class=\"barcode\"; style=\"color: black; background-color: rgba(0, 255, 0, 0); display:inline-block; font-size:12px;\">&nbsp multe &nbsp</span><span class=\"barcode\"; style=\"color: black; background-color: rgba(0, 255, 0, 0); display:inline-block; font-size:12px;\">&nbsp antologii &nbsp</span><span class=\"barcode\"; style=\"color: black; background-color: rgba(0, 255, 0, 0); display:inline-block; font-size:12px;\">&nbsp de &nbsp</span><span class=\"barcode\"; style=\"color: black; background-color: rgba(0, 255, 0, 1); display:inline-block; font-size:12px;\">&nbsp poezie &nbsp</span><span class=\"barcode\"; style=\"color: black; background-color: rgba(0, 255, 0, 0); display:inline-block; font-size:12px;\">&nbsp contemporană &nbsp</span><span class=\"barcode\"; style=\"color: black; background-color: rgba(0, 255, 0, 0); display:inline-block; font-size:12px;\">&nbsp și &nbsp</span><span class=\"barcode\"; style=\"color: black; background-color: rgba(0, 255, 0, 0); display:inline-block; font-size:12px;\">&nbsp a &nbsp</span><span class=\"barcode\"; style=\"color: black; background-color: rgba(0, 255, 0, 0); display:inline-block; font-size:12px;\">&nbsp îngrijit &nbsp</span><span class=\"barcode\"; style=\"color: black; background-color: rgba(0, 255, 0, 0); display:inline-block; font-size:12px;\">&nbsp și &nbsp</span><span class=\"barcode\"; style=\"color: black; background-color: rgba(0, 255, 0, 0); display:inline-block; font-size:12px;\">&nbsp prefațat &nbsp</span><span class=\"barcode\"; style=\"color: black; background-color: rgba(0, 255, 0, 0); display:inline-block; font-size:12px;\">&nbsp volumul &nbsp</span><span class=\"barcode\"; style=\"color: black; background-color: rgba(0, 255, 0, 0); display:inline-block; font-size:12px;\">&nbsp ' &nbsp</span><span class=\"barcode\"; style=\"color: black; background-color: rgba(0, 255, 0, 0); display:inline-block; font-size:12px;\">&nbsp ' &nbsp</span><span class=\"barcode\"; style=\"color: black; background-color: rgba(0, 255, 0, 1); display:inline-block; font-size:12px;\">&nbsp Meglenoromânii &nbsp</span><span class=\"barcode\"; style=\"color: black; background-color: rgba(0, 255, 0, 1); display:inline-block; font-size:12px;\">&nbsp din &nbsp</span><span class=\"barcode\"; style=\"color: black; background-color: rgba(0, 255, 0, 0); display:inline-block; font-size:12px;\">&nbsp Cerna &nbsp</span><span class=\"barcode\"; style=\"color: black; background-color: rgba(0, 255, 0, 0); display:inline-block; font-size:12px;\">&nbsp ' &nbsp</span><span class=\"barcode\"; style=\"color: black; background-color: rgba(0, 255, 0, 1); display:inline-block; font-size:12px;\">&nbsp ' &nbsp</span><span class=\"barcode\"; style=\"color: black; background-color: rgba(0, 255, 0, 0); display:inline-block; font-size:12px;\">&nbsp . &nbsp</span></div>"
      ],
      "text/plain": [
       "<IPython.core.display.HTML object>"
      ]
     },
     "metadata": {},
     "output_type": "display_data"
    },
    {
     "data": {
      "text/html": [
       "<div style=\"width:100%\">pred:&nbsp;&nbsp; <span class=\"barcode\"; style=\"color: black; background-color: rgba(0, 255, 0, 0.00815490634024176); display:inline-block; font-size:12px;\">&nbsp A &nbsp</span><span class=\"barcode\"; style=\"color: black; background-color: rgba(0, 255, 0, 0.042250404504332935); display:inline-block; font-size:12px;\">&nbsp realizat &nbsp</span><span class=\"barcode\"; style=\"color: black; background-color: rgba(0, 255, 0, 0.020465861245409434); display:inline-block; font-size:12px;\">&nbsp mai &nbsp</span><span class=\"barcode\"; style=\"color: black; background-color: rgba(0, 255, 0, 0.029275791019455814); display:inline-block; font-size:12px;\">&nbsp multe &nbsp</span><span class=\"barcode\"; style=\"color: black; background-color: rgba(0, 255, 0, 0.061053659061063886); display:inline-block; font-size:12px;\">&nbsp antologii &nbsp</span><span class=\"barcode\"; style=\"color: black; background-color: rgba(0, 255, 0, 0.02717807324742597); display:inline-block; font-size:12px;\">&nbsp de &nbsp</span><span class=\"barcode\"; style=\"color: black; background-color: rgba(0, 255, 0, 0.06714374909188031); display:inline-block; font-size:12px;\">&nbsp poezie &nbsp</span><span class=\"barcode\"; style=\"color: black; background-color: rgba(0, 255, 0, 0.07806336725777); display:inline-block; font-size:12px;\">&nbsp contemporană &nbsp</span><span class=\"barcode\"; style=\"color: black; background-color: rgba(0, 255, 0, 0.030618801160098887); display:inline-block; font-size:12px;\">&nbsp și &nbsp</span><span class=\"barcode\"; style=\"color: black; background-color: rgba(0, 255, 0, 0.03084363316287173); display:inline-block; font-size:12px;\">&nbsp a &nbsp</span><span class=\"barcode\"; style=\"color: black; background-color: rgba(0, 255, 0, 0.06414249104246406); display:inline-block; font-size:12px;\">&nbsp îngrijit &nbsp</span><span class=\"barcode\"; style=\"color: black; background-color: rgba(0, 255, 0, 0.025063250011398013); display:inline-block; font-size:12px;\">&nbsp și &nbsp</span><span class=\"barcode\"; style=\"color: black; background-color: rgba(0, 255, 0, 0.12933234378498817); display:inline-block; font-size:12px;\">&nbsp prefațat &nbsp</span><span class=\"barcode\"; style=\"color: black; background-color: rgba(0, 255, 0, 0.0699168167718635); display:inline-block; font-size:12px;\">&nbsp volumul &nbsp</span><span class=\"barcode\"; style=\"color: black; background-color: rgba(0, 255, 0, 0.021451716989736445); display:inline-block; font-size:12px;\">&nbsp ' &nbsp</span><span class=\"barcode\"; style=\"color: black; background-color: rgba(0, 255, 0, 0.016670524610398762); display:inline-block; font-size:12px;\">&nbsp ' &nbsp</span><span class=\"barcode\"; style=\"color: black; background-color: rgba(0, 255, 0, 0.12311012137046684); display:inline-block; font-size:12px;\">&nbsp Meglenoromânii &nbsp</span><span class=\"barcode\"; style=\"color: black; background-color: rgba(0, 255, 0, 0.029224886696990336); display:inline-block; font-size:12px;\">&nbsp din &nbsp</span><span class=\"barcode\"; style=\"color: black; background-color: rgba(0, 255, 0, 0.04426088257855227); display:inline-block; font-size:12px;\">&nbsp Cerna &nbsp</span><span class=\"barcode\"; style=\"color: black; background-color: rgba(0, 255, 0, 0.01691265323164561); display:inline-block; font-size:12px;\">&nbsp ' &nbsp</span><span class=\"barcode\"; style=\"color: black; background-color: rgba(0, 255, 0, 0.012857347654063505); display:inline-block; font-size:12px;\">&nbsp ' &nbsp</span><span class=\"barcode\"; style=\"color: black; background-color: rgba(0, 255, 0, 0.05200871916688177); display:inline-block; font-size:12px;\">&nbsp . &nbsp</span></div>"
      ],
      "text/plain": [
       "<IPython.core.display.HTML object>"
      ]
     },
     "metadata": {},
     "output_type": "display_data"
    },
    {
     "name": "stdout",
     "output_type": "stream",
     "text": [
      "MT:\n",
      "----\n"
     ]
    },
    {
     "data": {
      "text/html": [
       "<div style=\"width:100%\">gold:&nbsp;&nbsp; <span class=\"barcode\"; style=\"color: black; background-color: rgba(0, 255, 0, 0); display:inline-block; font-size:12px;\">&nbsp Has &nbsp</span><span class=\"barcode\"; style=\"color: black; background-color: rgba(0, 255, 0, 0); display:inline-block; font-size:12px;\">&nbsp developed &nbsp</span><span class=\"barcode\"; style=\"color: black; background-color: rgba(0, 255, 0, 0); display:inline-block; font-size:12px;\">&nbsp several &nbsp</span><span class=\"barcode\"; style=\"color: black; background-color: rgba(0, 255, 0, 0); display:inline-block; font-size:12px;\">&nbsp contemporary &nbsp</span><span class=\"barcode\"; style=\"color: black; background-color: rgba(0, 255, 0, 1); display:inline-block; font-size:12px;\">&nbsp poesthesia &nbsp</span><span class=\"barcode\"; style=\"color: black; background-color: rgba(0, 255, 0, 0); display:inline-block; font-size:12px;\">&nbsp antologies &nbsp</span><span class=\"barcode\"; style=\"color: black; background-color: rgba(0, 255, 0, 0); display:inline-block; font-size:12px;\">&nbsp and &nbsp</span><span class=\"barcode\"; style=\"color: black; background-color: rgba(0, 255, 0, 0); display:inline-block; font-size:12px;\">&nbsp has &nbsp</span><span class=\"barcode\"; style=\"color: black; background-color: rgba(0, 255, 0, 0); display:inline-block; font-size:12px;\">&nbsp looked &nbsp</span><span class=\"barcode\"; style=\"color: black; background-color: rgba(0, 255, 0, 0); display:inline-block; font-size:12px;\">&nbsp after &nbsp</span><span class=\"barcode\"; style=\"color: black; background-color: rgba(0, 255, 0, 0); display:inline-block; font-size:12px;\">&nbsp and &nbsp</span><span class=\"barcode\"; style=\"color: black; background-color: rgba(0, 255, 0, 0); display:inline-block; font-size:12px;\">&nbsp pre-faced &nbsp</span><span class=\"barcode\"; style=\"color: black; background-color: rgba(0, 255, 0, 0); display:inline-block; font-size:12px;\">&nbsp the &nbsp</span><span class=\"barcode\"; style=\"color: black; background-color: rgba(0, 255, 0, 0); display:inline-block; font-size:12px;\">&nbsp volume &nbsp</span><span class=\"barcode\"; style=\"color: black; background-color: rgba(0, 255, 0, 0); display:inline-block; font-size:12px;\">&nbsp of &nbsp</span><span class=\"barcode\"; style=\"color: black; background-color: rgba(0, 255, 0, 0); display:inline-block; font-size:12px;\">&nbsp \" &nbsp</span><span class=\"barcode\"; style=\"color: black; background-color: rgba(0, 255, 0, 1); display:inline-block; font-size:12px;\">&nbsp Meglenorohandles &nbsp</span><span class=\"barcode\"; style=\"color: black; background-color: rgba(0, 255, 0, 1); display:inline-block; font-size:12px;\">&nbsp \" &nbsp</span><span class=\"barcode\"; style=\"color: black; background-color: rgba(0, 255, 0, 1); display:inline-block; font-size:12px;\">&nbsp in &nbsp</span><span class=\"barcode\"; style=\"color: black; background-color: rgba(0, 255, 0, 0); display:inline-block; font-size:12px;\">&nbsp Cerna &nbsp</span><span class=\"barcode\"; style=\"color: black; background-color: rgba(0, 255, 0, 1); display:inline-block; font-size:12px;\">&nbsp ' &nbsp</span><span class=\"barcode\"; style=\"color: black; background-color: rgba(0, 255, 0, 0); display:inline-block; font-size:12px;\">&nbsp . &nbsp</span></div>"
      ],
      "text/plain": [
       "<IPython.core.display.HTML object>"
      ]
     },
     "metadata": {},
     "output_type": "display_data"
    },
    {
     "data": {
      "text/html": [
       "<div style=\"width:100%\">pred:&nbsp;&nbsp; <span class=\"barcode\"; style=\"color: black; background-color: rgba(0, 255, 0, 0.01624447175889362); display:inline-block; font-size:12px;\">&nbsp Has &nbsp</span><span class=\"barcode\"; style=\"color: black; background-color: rgba(0, 255, 0, 0.04390757200767931); display:inline-block; font-size:12px;\">&nbsp developed &nbsp</span><span class=\"barcode\"; style=\"color: black; background-color: rgba(0, 255, 0, 0.032682804717513295); display:inline-block; font-size:12px;\">&nbsp several &nbsp</span><span class=\"barcode\"; style=\"color: black; background-color: rgba(0, 255, 0, 0.08048806420583286); display:inline-block; font-size:12px;\">&nbsp contemporary &nbsp</span><span class=\"barcode\"; style=\"color: black; background-color: rgba(0, 255, 0, 0.13156222082052105); display:inline-block; font-size:12px;\">&nbsp poesthesia &nbsp</span><span class=\"barcode\"; style=\"color: black; background-color: rgba(0, 255, 0, 0.058096810928102066); display:inline-block; font-size:12px;\">&nbsp antologies &nbsp</span><span class=\"barcode\"; style=\"color: black; background-color: rgba(0, 255, 0, 0.026814666319944575); display:inline-block; font-size:12px;\">&nbsp and &nbsp</span><span class=\"barcode\"; style=\"color: black; background-color: rgba(0, 255, 0, 0.022107098765378676); display:inline-block; font-size:12px;\">&nbsp has &nbsp</span><span class=\"barcode\"; style=\"color: black; background-color: rgba(0, 255, 0, 0.039688088523895645); display:inline-block; font-size:12px;\">&nbsp looked &nbsp</span><span class=\"barcode\"; style=\"color: black; background-color: rgba(0, 255, 0, 0.03760829626674787); display:inline-block; font-size:12px;\">&nbsp after &nbsp</span><span class=\"barcode\"; style=\"color: black; background-color: rgba(0, 255, 0, 0.022769225998855554); display:inline-block; font-size:12px;\">&nbsp and &nbsp</span><span class=\"barcode\"; style=\"color: black; background-color: rgba(0, 255, 0, 0.09732186171762534); display:inline-block; font-size:12px;\">&nbsp pre-faced &nbsp</span><span class=\"barcode\"; style=\"color: black; background-color: rgba(0, 255, 0, 0.03625574233527469); display:inline-block; font-size:12px;\">&nbsp the &nbsp</span><span class=\"barcode\"; style=\"color: black; background-color: rgba(0, 255, 0, 0.028099630893549315); display:inline-block; font-size:12px;\">&nbsp volume &nbsp</span><span class=\"barcode\"; style=\"color: black; background-color: rgba(0, 255, 0, 0.03217725146201943); display:inline-block; font-size:12px;\">&nbsp of &nbsp</span><span class=\"barcode\"; style=\"color: black; background-color: rgba(0, 255, 0, 0.018260752796394827); display:inline-block; font-size:12px;\">&nbsp \" &nbsp</span><span class=\"barcode\"; style=\"color: black; background-color: rgba(0, 255, 0, 0.1016762003837685); display:inline-block; font-size:12px;\">&nbsp Meglenorohandles &nbsp</span><span class=\"barcode\"; style=\"color: black; background-color: rgba(0, 255, 0, 0.019225754183439036); display:inline-block; font-size:12px;\">&nbsp \" &nbsp</span><span class=\"barcode\"; style=\"color: black; background-color: rgba(0, 255, 0, 0.032222766137549236); display:inline-block; font-size:12px;\">&nbsp in &nbsp</span><span class=\"barcode\"; style=\"color: black; background-color: rgba(0, 255, 0, 0.045661753803164375); display:inline-block; font-size:12px;\">&nbsp Cerna &nbsp</span><span class=\"barcode\"; style=\"color: black; background-color: rgba(0, 255, 0, 0.014699415467879387); display:inline-block; font-size:12px;\">&nbsp ' &nbsp</span><span class=\"barcode\"; style=\"color: black; background-color: rgba(0, 255, 0, 0.06242955050597134); display:inline-block; font-size:12px;\">&nbsp . &nbsp</span></div>"
      ],
      "text/plain": [
       "<IPython.core.display.HTML object>"
      ]
     },
     "metadata": {},
     "output_type": "display_data"
    }
   ],
   "source": [
    "idx = 3\n",
    "lp = 'ro-en'\n",
    "train_data = read_data(lp, 'train')\n",
    "valid_data = read_data(lp, 'dev')\n",
    "test_data = read_data(lp, 'test')\n",
    "data = valid_data\n",
    "\n",
    "gold_src_tokens = data[idx]['original']\n",
    "gold_mt_tokens =  data[idx]['translation']\n",
    "gold_expls_src = data[idx]['src_tags']\n",
    "gold_expls_mt = data[idx]['mt_tags']\n",
    "gold_score = data[idx]['z_mean']\n",
    "\n",
    "pred = get_expl(data, idx)\n",
    "pred_score = pred['y_teacher']\n",
    "pred_tokens = pred['tokens']\n",
    "pred_masks = pred['masks']\n",
    "pred_expls = pred['teacher_expl']\n",
    "pred_attn = pred['teacher_attn']\n",
    "\n",
    "pred_expls_src, pred_expls_mt, _, _ = get_src_and_mt_explanations(\n",
    "    pred_tokens, pred_masks, pred_expls, reduction='sum'\n",
    ")\n",
    "sum_norm = lambda v: v / v.sum()\n",
    "min_max_norm = lambda v: (v - v.min()) / (v.max() - v.min())\n",
    "std_norm = lambda v: (v - v.mean()) / v.std()\n",
    "\n",
    "print('Gold: ', gold_score)\n",
    "print('Pred: ', pred_score)\n",
    "print('SRC:')\n",
    "print('----')\n",
    "show_explanation(gold_src_tokens, gold_expls_src, sum_norm(np.array(pred_expls_src)))\n",
    "print('MT:')\n",
    "print('----')\n",
    "show_explanation(gold_mt_tokens, gold_expls_mt, sum_norm(np.array(pred_expls_mt)))"
   ]
  },
  {
   "cell_type": "code",
   "execution_count": 65,
   "id": "7f22a70a",
   "metadata": {},
   "outputs": [
    {
     "data": {
      "text/plain": [
       "<AxesSubplot:>"
      ]
     },
     "execution_count": 65,
     "metadata": {},
     "output_type": "execute_result"
    },
    {
     "data": {
      "image/png": "[encoded data removed]",
      "text/plain": [
       "<Figure size 1152x864 with 1 Axes>"
      ]
     },
     "metadata": {
      "needs_background": "light"
     },
     "output_type": "display_data"
    }
   ],
   "source": [
    "layer_id = 9\n",
    "head_id = 5\n",
    "n = pred_tokens.index('<pad>')\n",
    "tokens = pred_tokens[:n]\n",
    "attn = flax.nn.softmax(pred_attn[layer_id, head_id, :n, :n], axis=-1)\n",
    "\n",
    "fig, ax = plt.subplots(figsize=(16, 12))\n",
    "df = pd.DataFrame(attn, columns=tokens, index=tokens)\n",
    "sns.heatmap(df, vmax=1, cmap=\"Greens\", square=True, cbar=False, ax=ax)"
   ]
  },
  {
   "cell_type": "code",
   "execution_count": null,
   "id": "a9ba99bc",
   "metadata": {},
   "outputs": [],
   "source": []
  }
 ],
 "metadata": {
  "kernelspec": {
   "display_name": "Python 3 (ipykernel)",
   "language": "python",
   "name": "python3"
  },
  "language_info": {
   "codemirror_mode": {
    "name": "ipython",
    "version": 3
   },
   "file_extension": ".py",
   "mimetype": "text/x-python",
   "name": "python",
   "nbconvert_exporter": "python",
   "pygments_lexer": "ipython3",
   "version": "3.9.7"
  }
 },
 "nbformat": 4,
 "nbformat_minor": 5
}
