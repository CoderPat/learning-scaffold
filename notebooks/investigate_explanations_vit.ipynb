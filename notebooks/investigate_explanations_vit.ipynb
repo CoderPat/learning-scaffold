{
 "cells": [
  {
   "cell_type": "code",
   "execution_count": null,
   "id": "c53bf00d",
   "metadata": {},
   "outputs": [],
   "source": [
    "%env CUDA_DEVICE_ORDER=PCI_BUS_ID\n",
    "%env CUDA_VISIBLE_DEVICES=6"
   ]
  },
  {
   "cell_type": "code",
   "execution_count": null,
   "id": "26163dd6",
   "metadata": {},
   "outputs": [],
   "source": [
    "# import torch\n",
    "import jax\n",
    "import jax.numpy as jnp\n",
    "import flax\n",
    "import numpy as np\n",
    "from matplotlib import pyplot as plt\n",
    "import seaborn as sns\n",
    "import pandas as pd\n",
    "from IPython.display import display, HTML\n",
    "from functools import partial\n",
    "import json\n",
    "from entmax_jax.activations import sparsemax, entmax15\n",
    "from meta_expl.explainers import load_explainer, create_explainer\n",
    "from meta_expl.models import load_model, create_model\n",
    "from meta_expl.data.cifar100 import dataloader, load_data"
   ]
  },
  {
   "cell_type": "markdown",
   "id": "cf4aafde",
   "metadata": {},
   "source": [
    "### define args"
   ]
  },
  {
   "cell_type": "code",
   "execution_count": null,
   "id": "849362ba",
   "metadata": {},
   "outputs": [],
   "source": [
    "# arguments\n",
    "arch = 'vit-base'\n",
    "setup = 'static_teacher'  # \"no_teacher\", \"static_teacher\", \"learnable_teacher\"\n",
    "seed = 9\n",
    "batch_size = 16\n",
    "max_len = 32*32\n",
    "num_classes = 100\n",
    "task_type = \"classification\"\n",
    "modality = \"image\"\n",
    "\n",
    "teacher_dir = 'data/cifar100-vit-models/teacher_dir'\n",
    "teacher_expl_dir = 'data/cifar100-vit-models/teacher_expl_dir'\n",
    "student_dir = 'data/cifar100-vit-models/student_dir'\n",
    "student_expl_dir = 'data/cifar100-vit-models/student_expl_dir'"
   ]
  },
  {
   "cell_type": "code",
   "execution_count": null,
   "id": "f8ab6d24",
   "metadata": {},
   "outputs": [],
   "source": [
    "from transformers import ViTFeatureExtractor\n",
    "tokenizer = ViTFeatureExtractor.from_pretrained(\"google/vit-base-patch16-224-in21k\")\n",
    "vocab_size = None"
   ]
  },
  {
   "cell_type": "code",
   "execution_count": null,
   "id": "502c68e6",
   "metadata": {},
   "outputs": [],
   "source": [
    "# create dummy inputs for model instantiation\n",
    "dummy_inputs = {\"pixel_values\": jnp.ones((batch_size, 3, 224, 224))}"
   ]
  },
  {
   "cell_type": "markdown",
   "id": "b3895232",
   "metadata": {},
   "source": [
    "### load models and explainers"
   ]
  },
  {
   "cell_type": "code",
   "execution_count": null,
   "id": "393157c1",
   "metadata": {},
   "outputs": [],
   "source": [
    "%env XLA_FLAGS=--xla_gpu_strict_conv_algorithm_picker=false\n",
    "%env XLA_FLAGS=--xla_gpu_cuda_data_dir=/usr/local/cuda/"
   ]
  },
  {
   "cell_type": "code",
   "execution_count": null,
   "id": "e09a4e6f",
   "metadata": {},
   "outputs": [],
   "source": [
    "teacher, teacher_params, dummy_state = load_model(teacher_dir, dummy_inputs, batch_size, max_len)\n",
    "teacher_explainer, teacher_explainer_params = load_explainer(teacher_expl_dir, dummy_inputs, state=dummy_state)\n",
    "student, student_params, dummy_state = load_model(student_dir, dummy_inputs, batch_size, max_len)\n",
    "student_explainer, student_explainer_params = load_explainer(student_expl_dir, dummy_inputs, state=dummy_state)"
   ]
  },
  {
   "cell_type": "code",
   "execution_count": null,
   "id": "0272fb8f",
   "metadata": {},
   "outputs": [],
   "source": [
    "from meta_expl.utils import PRNGSequence\n",
    "keyseq = PRNGSequence(seed)\n",
    "\n",
    "teacher_explainer_params_non_trained={\n",
    "    'normalize_head_coeffs': 'sparsemax',\n",
    "    'normalizer_fn': 'softmax',\n",
    "    'aggregator_idx': 'mean',\n",
    "    'aggregator_dim': 'row',\n",
    "    'init_fn': 'uniform',\n",
    "    'layer_idx': None,\n",
    "    'head_idx': None\n",
    "}\n",
    "\n",
    "# teacher, teacher_params, dummy_state = create_model(\n",
    "#     key=next(keyseq),\n",
    "#     inputs=dummy_inputs,\n",
    "#     vocab_size=1,\n",
    "#     num_classes=num_classes,\n",
    "#     arch=arch,\n",
    "#     batch_size=batch_size,\n",
    "#     max_len=max_len,\n",
    "#     embeddings=None,\n",
    "# )\n",
    "teacher_explainer_non_trained, teacher_explainer_params_non_trained = create_explainer(\n",
    "    key=next(keyseq),\n",
    "    inputs=dummy_inputs,\n",
    "    state=dummy_state,\n",
    "    explainer_type='attention_explainer',\n",
    "    explainer_args=teacher_explainer_params_non_trained,\n",
    ")"
   ]
  },
  {
   "cell_type": "markdown",
   "id": "fb462838",
   "metadata": {},
   "source": [
    "### look at the coefficients"
   ]
  },
  {
   "cell_type": "code",
   "execution_count": null,
   "id": "c4e9c44c",
   "metadata": {},
   "outputs": [],
   "source": [
    "sparsemax(teacher_explainer_params_non_trained['params']['head_coeffs']).reshape(12, 12)"
   ]
  },
  {
   "cell_type": "code",
   "execution_count": null,
   "id": "0fe2c922",
   "metadata": {},
   "outputs": [],
   "source": [
    "sparsemax(teacher_explainer_params['params']['head_coeffs']).reshape(12, 12)"
   ]
  },
  {
   "cell_type": "code",
   "execution_count": null,
   "id": "81fd77ad",
   "metadata": {},
   "outputs": [],
   "source": [
    "hc = sparsemax(teacher_explainer_params['params']['head_coeffs']).reshape(12, 12)\n",
    "for a, b in zip(*hc.nonzero()):\n",
    "    print(a, b, hc[a,b])"
   ]
  },
  {
   "cell_type": "code",
   "execution_count": null,
   "id": "73866625",
   "metadata": {},
   "outputs": [],
   "source": [
    "coeffs = np.asarray(hc)\n",
    "fig, ax = plt.subplots(figsize=(4, 4))\n",
    "ax.imshow(coeffs, cmap='Greens')\n",
    "ax.set_xticks(list(range(12)))\n",
    "ax.set_yticks(list(range(12)))\n",
    "ax.set_xlabel('Head')\n",
    "ax.set_ylabel('Layer')\n",
    "ax.set_title('Head coefficients')"
   ]
  },
  {
   "cell_type": "markdown",
   "id": "b0e62e87",
   "metadata": {},
   "source": [
    "### load data"
   ]
  },
  {
   "cell_type": "code",
   "execution_count": null,
   "id": "5e7860ad",
   "metadata": {},
   "outputs": [],
   "source": [
    "train_data = load_data(setup, \"train\")\n",
    "valid_data = load_data(setup, \"valid\")\n",
    "test_data = load_data(setup, \"test\")\n",
    "labels = ['apple', 'aquarium_fish', 'baby', 'bear', 'beaver', 'bed', 'bee', 'beetle', 'bicycle', 'bottle', 'bowl', 'boy', 'bridge', 'bus', 'butterfly', 'camel', 'can', 'castle', 'caterpillar', 'cattle', 'chair', 'chimpanzee', 'clock', 'cloud', 'cockroach', 'couch', 'cra', 'crocodile', 'cup', 'dinosaur', 'dolphin', 'elephant', 'flatfish', 'forest', 'fox', 'girl', 'hamster', 'house', 'kangaroo', 'keyboard', 'lamp', 'lawn_mower', 'leopard', 'lion', 'lizard', 'lobster', 'man', 'maple_tree', 'motorcycle', 'mountain', 'mouse', 'mushroom', 'oak_tree', 'orange', 'orchid', 'otter', 'palm_tree', 'pear', 'pickup_truck', 'pine_tree', 'plain', 'plate', 'poppy', 'porcupine', 'possum', 'rabbit', 'raccoon', 'ray', 'road', 'rocket', 'rose', 'sea', 'seal', 'shark', 'shrew', 'skunk', 'skyscraper', 'snail', 'snake', 'spider', 'squirrel', 'streetcar', 'sunflower', 'sweet_pepper', 'table', 'tank', 'telephone', 'television', 'tiger', 'tractor', 'train', 'trout', 'tulip', 'turtle', 'wardrobe', 'whale', 'willow_tree', 'wolf', 'woman', 'worm',]\n"
   ]
  },
  {
   "cell_type": "code",
   "execution_count": null,
   "id": "c4ae43fa",
   "metadata": {},
   "outputs": [],
   "source": [
    "labels = ['apple', 'aquarium_fish', 'baby', 'bear', 'beaver', 'bed', 'bee', 'beetle', 'bicycle', 'bottle', 'bowl', 'boy', 'bridge', 'bus', 'butterfly', 'camel', 'can', 'castle', 'caterpillar', 'cattle', 'chair', 'chimpanzee', 'clock', 'cloud', 'cockroach', 'couch', 'cra', 'crocodile', 'cup', 'dinosaur', 'dolphin', 'elephant', 'flatfish', 'forest', 'fox', 'girl', 'hamster', 'house', 'kangaroo', 'keyboard', 'lamp', 'lawn_mower', 'leopard', 'lion', 'lizard', 'lobster', 'man', 'maple_tree', 'motorcycle', 'mountain', 'mouse', 'mushroom', 'oak_tree', 'orange', 'orchid', 'otter', 'palm_tree', 'pear', 'pickup_truck', 'pine_tree', 'plain', 'plate', 'poppy', 'porcupine', 'possum', 'rabbit', 'raccoon', 'ray', 'road', 'rocket', 'rose', 'sea', 'seal', 'shark', 'shrew', 'skunk', 'skyscraper', 'snail', 'snake', 'spider', 'squirrel', 'streetcar', 'sunflower', 'sweet_pepper', 'table', 'tank', 'telephone', 'television', 'tiger', 'tractor', 'train', 'trout', 'tulip', 'turtle', 'wardrobe', 'whale', 'willow_tree', 'wolf', 'woman', 'worm',]"
   ]
  },
  {
   "cell_type": "markdown",
   "id": "66ee647d",
   "metadata": {},
   "source": [
    "## plot some samples"
   ]
  },
  {
   "cell_type": "code",
   "execution_count": null,
   "id": "aa728413",
   "metadata": {},
   "outputs": [],
   "source": [
    "test_data[0]"
   ]
  },
  {
   "cell_type": "code",
   "execution_count": null,
   "id": "b0d9f198",
   "metadata": {},
   "outputs": [],
   "source": [
    "fig, axs = plt.subplots(5, 5, figsize=(16, 12))\n",
    "for i in range(25):\n",
    "    ax = axs[i//5, i%5]\n",
    "    ax.set_xticklabels([])\n",
    "    ax.set_yticklabels([])\n",
    "    sample = test_data[i+100]\n",
    "    ax.imshow(sample['img'])\n",
    "    ax.set_title('{}: {}'.format(i, labels[sample['fine_label']]))"
   ]
  },
  {
   "cell_type": "markdown",
   "id": "c6ba1847",
   "metadata": {},
   "source": [
    "## plot explanations"
   ]
  },
  {
   "cell_type": "code",
   "execution_count": null,
   "id": "d7011879",
   "metadata": {},
   "outputs": [],
   "source": [
    "from captum.attr import visualization"
   ]
  },
  {
   "cell_type": "code",
   "execution_count": null,
   "id": "15d427e1",
   "metadata": {},
   "outputs": [],
   "source": [
    "def get_expl(data, idx=0, non_trained=False):\n",
    "    x, y = next(dataloader([data[idx]], tokenizer=tokenizer, batch_size=1, max_len=None, shuffle=False))\n",
    "    y_teacher, teacher_attn = teacher.apply(teacher_params, **x, deterministic=True)\n",
    "    if non_trained:\n",
    "        teacher_expl, _ = teacher_explainer_non_trained.apply(teacher_explainer_params_non_trained, x, teacher_attn)\n",
    "    else:\n",
    "        teacher_expl, _ = teacher_explainer.apply(teacher_explainer_params, x, teacher_attn)\n",
    "    y_student, student_attn = student.apply(student_params, **x)\n",
    "    student_expl, _ = student_explainer.apply(student_explainer_params, x, student_attn)\n",
    "    teacher_rep = teacher_attn['hidden_states'][0][0]\n",
    "    teacher_attn = np.asarray(jnp.stack(teacher_attn['attentions']).transpose([1, 0, 2, 3, 4]))\n",
    "    student_attn = np.asarray(jnp.stack(student_attn['attentions']).transpose([1, 0, 2, 3, 4]))\n",
    "    return {\n",
    "        'teacher_attn': teacher_attn[0],\n",
    "        'teacher_expl': teacher_expl.tolist()[0],\n",
    "        'teacher_rep': teacher_rep.tolist()[1:],\n",
    "        'student_attn': student_attn[0],\n",
    "        'student_expl': student_expl.tolist()[0],\n",
    "        'y_teacher': np.argmax(y_teacher.tolist()[0]),\n",
    "        'y_student': np.argmax(y_student.tolist()[0]),\n",
    "        'x': x['pixel_values'][0].transpose([1, 2, 0]),\n",
    "        'y': y[0],\n",
    "        'x_img': data[idx]['img'],\n",
    "    }\n"
   ]
  },
  {
   "cell_type": "code",
   "execution_count": null,
   "id": "eb262ff6",
   "metadata": {},
   "outputs": [],
   "source": [
    "def show_expl(data, idx=0, non_trained=False):\n",
    "    d = get_expl(data, idx, non_trained=non_trained)\n",
    "    # x = np.asarray(d['x'])\n",
    "    x = np.asarray(d['x_img'].resize((224, 224)))\n",
    "    expl = np.asarray(d['teacher_expl'])\n",
    "    # remove cls token\n",
    "    e = expl[1:].reshape(14, 14)\n",
    "    # repeat interleave for each patch\n",
    "    e = np.repeat(np.repeat(e, 16, axis=0), 16, axis=1)\n",
    "    # add dummy dim\n",
    "    e = e[:, :, None]\n",
    "    \n",
    "    print('y_teacher:', labels[d['y_teacher']])\n",
    "    print('y_student:', labels[d['y_student']])\n",
    "    \n",
    "    fig, axs = plt.subplots(1, 3, figsize=(6, 3))\n",
    "    axs[0].set_title('original image')\n",
    "    axs[0].get_xaxis().set_visible(False)\n",
    "    axs[0].get_yaxis().set_visible(False)\n",
    "    [axs[0].spines[a].set_linewidth(1) for a in ['top','bottom','left','right']]\n",
    "    axs[0].imshow(x)\n",
    "    \n",
    "    \n",
    "    axs[1].set_title('raw explanation')\n",
    "    axs[1].get_xaxis().set_visible(False)\n",
    "    axs[1].get_yaxis().set_visible(False)\n",
    "    [axs[1].spines[a].set_linewidth(1) for a in ['top','bottom','left','right']]\n",
    "    axs[1].imshow(e)    \n",
    "    \n",
    "    \n",
    "    axs[2].set_title('blended explanation')\n",
    "    axs[2].get_xaxis().set_visible(False)\n",
    "    axs[2].get_yaxis().set_visible(False)\n",
    "    [axs[2].spines[a].set_linewidth(1) for a in ['top','bottom','left','right']]\n",
    "    axs[2].imshow(x, cmap='gray', interpolation='nearest',)\n",
    "    axs[2].imshow(e, cmap='viridis', interpolation='bilinear', alpha=.5)\n",
    "    \n",
    "    return d"
   ]
  },
  {
   "cell_type": "code",
   "execution_count": null,
   "id": "4723d744",
   "metadata": {},
   "outputs": [],
   "source": [
    "d = show_expl(test_data, idx=114)\n",
    "plt.savefig('example-butterfly-learned-explainer.pdf', bbox_inches='tight', dpi=300)"
   ]
  },
  {
   "cell_type": "code",
   "execution_count": null,
   "id": "dcb7c18b",
   "metadata": {},
   "outputs": [],
   "source": [
    "d = show_expl(test_data, idx=114, non_trained=True)\n",
    "plt.savefig('example-butterfly-non-trained-explainer.pdf', bbox_inches='tight', dpi=300)"
   ]
  },
  {
   "cell_type": "code",
   "execution_count": null,
   "id": "927ce23c",
   "metadata": {},
   "outputs": [],
   "source": [
    "d = show_expl(test_data, idx=5)\n",
    "plt.savefig('example-television-learned-explainer.pdf', bbox_inches='tight', dpi=300)"
   ]
  },
  {
   "cell_type": "code",
   "execution_count": null,
   "id": "b25a5d03",
   "metadata": {},
   "outputs": [],
   "source": [
    "d = show_expl(test_data, idx=5, non_trained=True)\n",
    "plt.savefig('example-television-non-trained-explainer.pdf', bbox_inches='tight', dpi=300)"
   ]
  },
  {
   "cell_type": "code",
   "execution_count": null,
   "id": "80644cbc",
   "metadata": {},
   "outputs": [],
   "source": [
    "d = show_expl(test_data, idx=2)"
   ]
  },
  {
   "cell_type": "markdown",
   "id": "3ddb16fd",
   "metadata": {},
   "source": [
    "## plot patches 16x16 patches"
   ]
  },
  {
   "cell_type": "code",
   "execution_count": null,
   "id": "ddd54f66",
   "metadata": {},
   "outputs": [],
   "source": [
    "# Set the gridding interval: here we use the major tick interval\n",
    "import matplotlib.ticker as plticker\n",
    "loc = plticker.MultipleLocator(base=14)\n",
    "\n",
    "# Add the grid\n",
    "fig, ax = plt.subplots(figsize=(2, 2))\n",
    "ax.xaxis.set_major_locator(loc)\n",
    "ax.yaxis.set_major_locator(loc)\n",
    "ax.grid(which='major', axis='both', linestyle='-')\n",
    "# ax.get_xaxis().set_visible(False)\n",
    "# ax.get_yaxis().set_visible(False)\n",
    "ax.imshow(d['x_img'].resize((244, 244)))"
   ]
  },
  {
   "cell_type": "markdown",
   "id": "6a044eb4",
   "metadata": {},
   "source": [
    "## plot attention maps"
   ]
  },
  {
   "cell_type": "code",
   "execution_count": null,
   "id": "3c74bfde",
   "metadata": {},
   "outputs": [],
   "source": [
    "row_id = 0\n",
    "heads_expl = d['teacher_attn']\n",
    "\n",
    "fig, axs = plt.subplots(12, 12, figsize=(16, 16))\n",
    "\n",
    "for l in range(12):\n",
    "    for i in range(12):\n",
    "        ax = axs[l, i]\n",
    "        ax.get_xaxis().set_visible(False)\n",
    "        ax.get_yaxis().set_visible(False)\n",
    "        ax.imshow(heads_expl[l, i, row_id, 1:].reshape(14, 14), cmap='viridis')"
   ]
  }
 ],
 "metadata": {
  "kernelspec": {
   "display_name": "Python 3 (ipykernel)",
   "language": "python",
   "name": "python3"
  },
  "language_info": {
   "codemirror_mode": {
    "name": "ipython",
    "version": 3
   },
   "file_extension": ".py",
   "mimetype": "text/x-python",
   "name": "python",
   "nbconvert_exporter": "python",
   "pygments_lexer": "ipython3"
  }
 },
 "nbformat": 4,
 "nbformat_minor": 5
}
