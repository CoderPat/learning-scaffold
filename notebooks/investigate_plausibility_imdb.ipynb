{
 "cells": [
  {
   "cell_type": "markdown",
   "id": "0f173f6e",
   "metadata": {},
   "source": [
    "set cuda id"
   ]
  },
  {
   "cell_type": "code",
   "execution_count": 1,
   "id": "e5442597",
   "metadata": {},
   "outputs": [
    {
     "name": "stdout",
     "output_type": "stream",
     "text": [
      "env: CUDA_DEVICE_ORDER=PCI_BUS_ID\n",
      "env: CUDA_VISIBLE_DEVICES=4\n"
     ]
    }
   ],
   "source": [
    "%env CUDA_DEVICE_ORDER=PCI_BUS_ID\n",
    "%env CUDA_VISIBLE_DEVICES=4"
   ]
  },
  {
   "cell_type": "markdown",
   "id": "0343ff12",
   "metadata": {},
   "source": [
    "Install dependencies for computing metrics and plots:"
   ]
  },
  {
   "cell_type": "code",
   "execution_count": 2,
   "id": "7b7502e9",
   "metadata": {
    "scrolled": false
   },
   "outputs": [],
   "source": [
    "#!pip3 install numpy scipy pandas seaborn matplotlib sklearn"
   ]
  },
  {
   "cell_type": "markdown",
   "id": "b6e1ab61",
   "metadata": {},
   "source": [
    "## Basic imports"
   ]
  },
  {
   "cell_type": "code",
   "execution_count": 3,
   "id": "111e491d",
   "metadata": {},
   "outputs": [],
   "source": [
    "import jax\n",
    "import jax.numpy as jnp\n",
    "import flax\n",
    "from entmax_jax import sparsemax\n",
    "import numpy as np\n",
    "from matplotlib import pyplot as plt\n",
    "import seaborn as sns\n",
    "import pandas as pd\n",
    "from IPython.display import display, HTML\n",
    "from functools import partial\n",
    "import json\n",
    "from entmax_jax.activations import sparsemax, entmax15\n",
    "from sklearn.metrics import roc_auc_score, average_precision_score\n",
    "\n",
    "from meta_expl.explainers import load_explainer\n",
    "from meta_expl.models import load_model\n",
    "from meta_expl.data.imdb import load_data, dataloader\n",
    "from meta_expl.data.movies_rationales import dataloader as movie_dataloader\n",
    "from meta_expl.data.movies_rationales import load_data as movie_load_data\n",
    "\n",
    "from evaluate_explanations import evaluate_word_level, evaluate_sentence_level, aggregate_pieces"
   ]
  },
  {
   "cell_type": "code",
   "execution_count": 4,
   "id": "696c7a83",
   "metadata": {},
   "outputs": [],
   "source": [
    "# data utils\n",
    "def unroll(list_of_lists):\n",
    "    return [e for ell in list_of_lists for e in ell]"
   ]
  },
  {
   "cell_type": "markdown",
   "id": "f0051472",
   "metadata": {},
   "source": [
    "## Define args and load stuff"
   ]
  },
  {
   "cell_type": "code",
   "execution_count": 5,
   "id": "e77dafcf",
   "metadata": {
    "scrolled": false
   },
   "outputs": [],
   "source": [
    "# arguments\n",
    "arch = \"google/electra-small-discriminator\"\n",
    "num_classes = 2\n",
    "task_type = \"classification\"\n",
    "max_len = 256\n",
    "batch_size = 32\n",
    "seed = 1\n",
    "setup = \"static_teacher\"\n",
    "\n",
    "teacher_dir = 'data/imdb-electra-models/teacher_dir'\n",
    "explainer_dir = 'data/imdb-electra-models/teacher_expl_dir'"
   ]
  },
  {
   "cell_type": "code",
   "execution_count": 6,
   "id": "a323ee16",
   "metadata": {},
   "outputs": [
    {
     "data": {
      "text/plain": [
       "(32, 256)"
      ]
     },
     "execution_count": 6,
     "metadata": {},
     "output_type": "execute_result"
    }
   ],
   "source": [
    "# create dummy inputs for model instantiation\n",
    "input_ids = jnp.ones((batch_size, max_len), jnp.int32)\n",
    "dummy_inputs = {\n",
    "    \"input_ids\": input_ids,\n",
    "    \"attention_mask\": jnp.ones_like(input_ids),\n",
    "    \"token_type_ids\": jnp.arange(jnp.atleast_2d(input_ids).shape[-1]),\n",
    "    \"position_ids\": jnp.ones_like(input_ids),\n",
    "}\n",
    "dummy_inputs['input_ids'].shape"
   ]
  },
  {
   "cell_type": "markdown",
   "id": "b1f4f9ad",
   "metadata": {},
   "source": [
    "### load data"
   ]
  },
  {
   "cell_type": "code",
   "execution_count": 7,
   "id": "1c07f5c2",
   "metadata": {},
   "outputs": [
    {
     "name": "stderr",
     "output_type": "stream",
     "text": [
      "WARNING:datasets.builder:Using custom data configuration default\n",
      "WARNING:datasets.builder:Reusing dataset movie_rationales (/home/mtreviso/.cache/huggingface/datasets/movie_rationales/default/0.1.0/70ed6b72496c90835e8ee73ebf8d0e49f5ad3aa93f302c8a4b6c886143cfb779)\n"
     ]
    },
    {
     "data": {
      "application/vnd.jupyter.widget-view+json": {
       "model_id": "a0d0c49c578e4b8ca1c008f7cfbd9a53",
       "version_major": 2,
       "version_minor": 0
      },
      "text/plain": [
       "  0%|          | 0/3 [00:00<?, ?it/s]"
      ]
     },
     "metadata": {},
     "output_type": "display_data"
    }
   ],
   "source": [
    "# load data\n",
    "test_data = movie_load_data(setup, \"test\")"
   ]
  },
  {
   "cell_type": "code",
   "execution_count": 8,
   "id": "4c35cadf",
   "metadata": {},
   "outputs": [
    {
     "data": {
      "text/plain": [
       "{'review': 'plot : two teen couples go to a church party , drink and then drive .\\nthey get into an accident .\\none of the guys dies , but his girlfriend continues to see him in her life , and has nightmares .\\nwhat \\'s the deal ?\\nwatch the movie and \" sorta \" find out . . .\\ncritique : a mind - fuck movie for the teen generation that touches on a very cool idea , but presents it in a very bad package .\\nwhich is what makes this review an even harder one to write , since i generally applaud films which attempt to break the mold , mess with your head and such ( lost highway & memento ) , but there are good and bad ways of making all types of films , and these folks just did n\\'t snag this one correctly\\n.\\nthey seem to have taken this pretty neat concept , but executed it terribly .\\nso what are the problems with the movie ?\\nwell , its main problem is that it \\'s simply too jumbled\\n.\\nit starts off \" normal \" but then downshifts into this \" fantasy \" world in which you , as an audience member ,\\nhave no idea what \\'s going on\\n.\\nthere are dreams , there are characters coming back from the dead , there are others who look like the dead , there are strange apparitions , there are disappearances , there are a looooot of chase scenes , there are tons of weird things that happen , and most of it is simply not explained .\\nnow i personally do n\\'t mind trying to unravel a film every now and then , but when all it does is give me the same clue over and over again , i get kind of fed up after a while , which is this film \\'s biggest problem .\\nit \\'s obviously got this big secret to hide , but it seems to want to hide it completely until its final five minutes .\\nand do they make things entertaining , thrilling or even engaging , in the meantime ?\\nnot really .\\nthe sad part is that the arrow and i both dig on flicks like this , so we actually figured most of it out by the half - way point , so all of the strangeness after that did start to make a little bit of sense , but it still did n\\'t the make the film all that more entertaining .\\ni guess the bottom line with movies like this is that you should always make sure that the audience is \" into it \" even before they are given the secret password to enter your world of understanding .\\ni mean , showing melissa sagemiller running away from visions for about 20 minutes throughout the movie is just plain lazy ! !\\nokay , we get it .\\n. .\\nthere are people chasing her and we do n\\'t know who they are .\\ndo we really need to see it over and over again ?\\nhow about giving us different scenes offering further insight into all of the strangeness going down in the movie ?\\napparently , the studio took this film away from its director and chopped it up themselves , and it shows .\\nthere might \\'ve been a pretty decent teen mind - fuck movie in here somewhere , but i guess \" the suits \" decided that turning it into a music video with little edge , would make more sense .\\nthe actors are pretty good for the most part , although wes bentley just seemed to be playing the exact same character that he did in american beauty , only in a new neighborhood .\\nbut my biggest kudos go out to sagemiller , who holds her own throughout the entire film , and actually has you feeling her character \\'s unraveling .\\noverall , the film does n\\'t stick\\nbecause it does n\\'t entertain , it \\'s confusing , it rarely excites and\\nit feels pretty redundant for most of its runtime , despite a pretty cool ending and explanation to all of the craziness that came before it .\\noh ,\\nand by the way , this is not a horror or teen slasher flick . . .\\nit \\'s just packaged to look that way because someone is apparently assuming that the genre is still hot with the kids .\\nit also wrapped production two years ago and has been sitting on the shelves ever since .\\nwhatever . .\\n. skip it !\\nwhere \\'s joblo coming from ?\\na nightmare of elm street 3 ( 7/10 ) - blair witch 2 ( 7/10 ) - the crow ( 9/10 ) - the crow : salvation ( 4/10 )\\n- lost highway ( 10/10 ) - memento ( 10/10 ) - the others ( 9/10 ) - stir of echoes ( 8/10 )',\n",
       " 'label': 0,\n",
       " 'evidences': ['mind - fuck movie',\n",
       "  'the sad part is',\n",
       "  'downshifts into this \" fantasy \" world',\n",
       "  'i get kind of fed up after a while',\n",
       "  'pretty redundant',\n",
       "  \"it 's simply too jumbled\",\n",
       "  \"have no idea what 's going on\",\n",
       "  \"just did n't snag this one correctly\",\n",
       "  'do we really need to see it over and over again ?',\n",
       "  'a very bad package',\n",
       "  \"the film does n't stick\",\n",
       "  \"it does n't entertain , it 's confusing , it rarely excites\",\n",
       "  \"what 's the deal ?\",\n",
       "  'executed it terribly',\n",
       "  'not really',\n",
       "  'skip it !']}"
      ]
     },
     "execution_count": 8,
     "metadata": {},
     "output_type": "execute_result"
    }
   ],
   "source": [
    "test_data[0]"
   ]
  },
  {
   "cell_type": "markdown",
   "id": "f90ea756",
   "metadata": {},
   "source": [
    "### load tokenizer"
   ]
  },
  {
   "cell_type": "code",
   "execution_count": 9,
   "id": "bbf471df",
   "metadata": {},
   "outputs": [],
   "source": [
    "from transformers import ElectraTokenizerFast\n",
    "tokenizer = ElectraTokenizerFast.from_pretrained(arch)\n",
    "vocab_size = len(tokenizer)\n",
    "cls_id = tokenizer.cls_token_id\n",
    "sep_id = tokenizer.sep_token_id\n",
    "pad_id = tokenizer.pad_token_id"
   ]
  },
  {
   "cell_type": "markdown",
   "id": "c7df6d85",
   "metadata": {},
   "source": [
    "### load model and explainer"
   ]
  },
  {
   "cell_type": "code",
   "execution_count": 10,
   "id": "478ee21f",
   "metadata": {},
   "outputs": [],
   "source": [
    "teacher, teacher_params, dummy_state = load_model(teacher_dir, dummy_inputs, batch_size, max_len)\n",
    "teacher_explainer, teacher_explainer_params = load_explainer(explainer_dir, dummy_inputs, state=dummy_state)"
   ]
  },
  {
   "cell_type": "code",
   "execution_count": 11,
   "id": "f482d52e",
   "metadata": {},
   "outputs": [],
   "source": [
    "from meta_expl.utils import PRNGSequence\n",
    "from meta_expl.explainers import create_explainer\n",
    "keyseq = PRNGSequence(11)\n",
    "teacher_explainer_params_non_trained={\n",
    "    'normalize_head_coeffs': 'sparsemax',\n",
    "    'normalizer_fn': 'softmax',\n",
    "    'aggregator_idx': 'mean',\n",
    "    'aggregator_dim': 'row',\n",
    "    'init_fn': 'uniform',\n",
    "    'layer_idx': None,\n",
    "    'head_idx': None\n",
    "}\n",
    "teacher_explainer_non_trained, teacher_explainer_params_non_trained = create_explainer(\n",
    "    key=next(keyseq),\n",
    "    inputs=dummy_inputs,\n",
    "    state=dummy_state,\n",
    "    explainer_type='attention_explainer',\n",
    "    explainer_args=teacher_explainer_params_non_trained,\n",
    ")"
   ]
  },
  {
   "cell_type": "code",
   "execution_count": 12,
   "id": "fe63b22a",
   "metadata": {},
   "outputs": [],
   "source": [
    "best_head_teacher_explainer_params={\n",
    "    'normalize_head_coeffs': 'sparsemax',\n",
    "    'normalizer_fn': 'softmax',\n",
    "    'aggregator_idx': 'mean',\n",
    "    'aggregator_dim': 'row',\n",
    "    'init_fn': 'uniform',\n",
    "    'layer_idx': 9,  #9, None\n",
    "    'head_idx': 5,  #5, None\n",
    "}\n",
    "best_head_teacher_explainer, best_head_teacher_explainer_params = create_explainer(\n",
    "    key=next(keyseq), \n",
    "    inputs=dummy_inputs, \n",
    "    state=dummy_state, \n",
    "    explainer_type='attention_explainer', \n",
    "    explainer_args=best_head_teacher_explainer_params\n",
    ")"
   ]
  },
  {
   "cell_type": "code",
   "execution_count": 13,
   "id": "2f07e2ac",
   "metadata": {},
   "outputs": [],
   "source": [
    "best_layer_teacher_explainer_params={\n",
    "    'normalize_head_coeffs': 'sparsemax',\n",
    "    'normalizer_fn': 'softmax',\n",
    "    'aggregator_idx': 'mean',\n",
    "    'aggregator_dim': 'row',\n",
    "    'init_fn': 'uniform',\n",
    "    'layer_idx': 10,  #9, None\n",
    "    'head_idx': None,  #5, None\n",
    "}\n",
    "best_layer_teacher_explainer, best_layer_teacher_explainer_params = create_explainer(\n",
    "    key=next(keyseq), \n",
    "    inputs=dummy_inputs, \n",
    "    state=dummy_state, \n",
    "    explainer_type='attention_explainer', \n",
    "    explainer_args=best_layer_teacher_explainer_params\n",
    ")"
   ]
  },
  {
   "cell_type": "code",
   "execution_count": 14,
   "id": "d7ac6a55",
   "metadata": {},
   "outputs": [],
   "source": [
    "input_gradient_teacher_explainer, input_gradient_teacher_explainer_params = create_explainer(\n",
    "    key=next(keyseq), \n",
    "    inputs=dummy_inputs, \n",
    "    state=dummy_state, \n",
    "    explainer_type='gradient_input_explainer', \n",
    "    model_extras={\n",
    "        \"grad_fn\": teacher.apply(\n",
    "            teacher_params, dummy_inputs, method=teacher.embeddings_grad_fn\n",
    "        )\n",
    "    }\n",
    ")"
   ]
  },
  {
   "cell_type": "code",
   "execution_count": 15,
   "id": "fbbf34ee",
   "metadata": {},
   "outputs": [],
   "source": [
    "int_gradient_teacher_explainer, int_gradient_teacher_explainer_params = create_explainer(\n",
    "    key=next(keyseq), \n",
    "    inputs=dummy_inputs, \n",
    "    state=dummy_state, \n",
    "    explainer_type='integrated_gradients_explainer', \n",
    "    model_extras={\n",
    "        \"grad_fn\": teacher.apply(\n",
    "            teacher_params, dummy_inputs, method=teacher.embeddings_grad_fn\n",
    "        )\n",
    "    }\n",
    ")"
   ]
  },
  {
   "cell_type": "markdown",
   "id": "f2d09885",
   "metadata": {},
   "source": [
    "### look at the coefficients"
   ]
  },
  {
   "cell_type": "code",
   "execution_count": 16,
   "id": "c2e0f46b",
   "metadata": {
    "scrolled": true
   },
   "outputs": [
    {
     "data": {
      "text/plain": [
       "DeviceArray([[0.        , 0.        , 0.        , 0.        ],\n",
       "             [0.        , 0.        , 0.        , 0.        ],\n",
       "             [0.        , 0.19831145, 0.        , 0.        ],\n",
       "             [0.        , 0.        , 0.        , 0.        ],\n",
       "             [0.        , 0.        , 0.        , 0.        ],\n",
       "             [0.        , 0.        , 0.        , 0.        ],\n",
       "             [0.12434827, 0.25941166, 0.        , 0.        ],\n",
       "             [0.        , 0.27521744, 0.        , 0.0986265 ],\n",
       "             [0.        , 0.        , 0.0440846 , 0.        ],\n",
       "             [0.        , 0.        , 0.        , 0.        ],\n",
       "             [0.        , 0.        , 0.        , 0.        ],\n",
       "             [0.        , 0.        , 0.        , 0.        ]],            dtype=float32)"
      ]
     },
     "execution_count": 16,
     "metadata": {},
     "output_type": "execute_result"
    }
   ],
   "source": [
    "hc = sparsemax(teacher_explainer_params['params']['head_coeffs']).reshape(12, 4)\n",
    "hc"
   ]
  },
  {
   "cell_type": "code",
   "execution_count": 17,
   "id": "8a706e2d",
   "metadata": {},
   "outputs": [
    {
     "name": "stdout",
     "output_type": "stream",
     "text": [
      "3 2\n",
      "7 1\n",
      "7 2\n",
      "8 2\n",
      "8 4\n",
      "9 3\n"
     ]
    }
   ],
   "source": [
    "for a, b in zip(*hc.nonzero()):\n",
    "    print(a+1, b+1)"
   ]
  },
  {
   "cell_type": "code",
   "execution_count": 18,
   "id": "18549d54",
   "metadata": {},
   "outputs": [
    {
     "data": {
      "text/plain": [
       "[(1, 0.0),\n",
       " (2, 0.0),\n",
       " (4, 0.0),\n",
       " (5, 0.0),\n",
       " (6, 0.0),\n",
       " (10, 0.0),\n",
       " (11, 0.0),\n",
       " (12, 0.0),\n",
       " (9, 0.011021151207387447),\n",
       " (3, 0.04957786202430725),\n",
       " (8, 0.09346098452806473),\n",
       " (7, 0.09593997895717621)]"
      ]
     },
     "execution_count": 18,
     "metadata": {},
     "output_type": "execute_result"
    }
   ],
   "source": [
    "# check the layers with the highest coefficients\n",
    "layer_coeffs = hc.mean(-1).tolist()\n",
    "sorted(list(zip(list(range(1, len(layer_coeffs)+1)), layer_coeffs)), key=lambda k: k[1])"
   ]
  },
  {
   "cell_type": "code",
   "execution_count": null,
   "id": "4048be98",
   "metadata": {},
   "outputs": [],
   "source": [
    "coeffs = np.asarray(hc)\n",
    "fig, ax = plt.subplots(figsize=(4, 4))\n",
    "ax.imshow(coeffs, cmap='Greens')\n",
    "ax.set_xticks(list(range(12)))\n",
    "ax.set_yticks(list(range(12)))\n",
    "ax.set_xlabel('Head')\n",
    "ax.set_ylabel('Layer')\n",
    "ax.set_title('Head coefficients')"
   ]
  },
  {
   "cell_type": "markdown",
   "id": "b0a705b0",
   "metadata": {},
   "source": [
    "## Get explanations"
   ]
  },
  {
   "cell_type": "code",
   "execution_count": 30,
   "id": "33bd87c8",
   "metadata": {},
   "outputs": [],
   "source": [
    "def get_expls(data, t, t_p, t_e, t_e_p, s=None, s_p=None, s_e=None, s_e_p=None, is_grad_based=False):\n",
    "    all_tokens = []\n",
    "    all_masks = []\n",
    "    all_explanations = []\n",
    "    all_outputs = []\n",
    "    for i, (x, y) in enumerate(movie_dataloader(data, tokenizer, batch_size=batch_size, max_len=max_len, shuffle=False)):\n",
    "        print('{} of {}'.format(i, len(data)//batch_size), end='\\r')\n",
    "        y_teacher, teacher_attn = t.apply(t_p, **x, deterministic=True)\n",
    "        y_teacher = jnp.argmax(y_teacher, axis=-1) if task_type == \"classification\" else y_teacher\n",
    "        if is_grad_based:\n",
    "            teacher_extras = {\n",
    "                \"grad_fn\": t.apply(t_p, x, method=t.embeddings_grad_fn)\n",
    "            }\n",
    "            teacher_expl, _ = t_e.apply(t_e_p, x, teacher_attn, **teacher_extras)\n",
    "        else:\n",
    "            teacher_expl, _ = t_e.apply(t_e_p, x, teacher_attn)\n",
    "        # teacher_rep = teacher_attn['hidden_states'][0][0]\n",
    "        # teacher_attn = np.asarray(jnp.stack(teacher_attn['attentions']).transpose([1, 0, 2, 3, 4]))\n",
    "        \n",
    "        if s is not None:\n",
    "            y_student, student_attn = s.apply(s_p, **x)\n",
    "            y_student = jnp.argmax(y_student, axis=-1) if task_type == \"classification\" else y_student\n",
    "            student_expl, _ = student_explainer.apply(s_e_p, x, student_attn)\n",
    "            # student_attn = np.asarray(jnp.stack(student_attn['attentions']).transpose([1, 0, 2, 3, 4]))\n",
    "        \n",
    "        # convert everything to lists\n",
    "        batch_ids = x['input_ids'].tolist()\n",
    "        batch_tokens = [tokenizer.convert_ids_to_tokens(ids) for ids in batch_ids]\n",
    "        batch_masks = [[not tk.startswith('##') for tk in tokens] for tokens in batch_tokens]\n",
    "        batch_expls = teacher_expl.tolist()\n",
    "        \n",
    "        # filter out pad\n",
    "        batch_valid_len = x['attention_mask'].sum(-1).tolist()\n",
    "        batch_z = []\n",
    "        for i in range(len(batch_valid_len)):\n",
    "            n = batch_valid_len[i]\n",
    "            batch_ids[i] = batch_ids[i][:n]\n",
    "            batch_tokens[i] = batch_tokens[i][:n]\n",
    "            batch_masks[i] = batch_masks[i][:n]\n",
    "            batch_expls[i] = batch_expls[i][:n]\n",
    "        \n",
    "        all_tokens.extend(batch_tokens)\n",
    "        all_masks.extend(batch_masks)\n",
    "        all_explanations.extend(batch_expls)\n",
    "        all_outputs.extend(y_teacher.tolist())\n",
    "        \n",
    "    return all_tokens, all_masks, all_explanations, all_outputs"
   ]
  },
  {
   "cell_type": "code",
   "execution_count": 20,
   "id": "eeea2602",
   "metadata": {},
   "outputs": [],
   "source": [
    "total_ok = 0\n",
    "total_er = 0\n",
    "\n",
    "def find_index_sublist(v, u_pad):\n",
    "    global total_ok, total_er\n",
    "    m = u_pad.index(102)\n",
    "    u = u_pad[1:m]\n",
    "    n = len(u)\n",
    "    for i in range(len(v)-n):\n",
    "        if v[i:i+n] == u:\n",
    "            total_ok += 1\n",
    "            return i, i+n\n",
    "    total_er += 1\n",
    "    return None, None\n",
    "\n",
    "def convert_evidences_to_mask(x, e):\n",
    "    start_end_idxs = [find_index_sublist(x, e_) for e_ in e]\n",
    "    mask = [0] * len(x)\n",
    "    for a, b in start_end_idxs:\n",
    "        if a is not None and b is not None:\n",
    "            for j in range(a, b):\n",
    "                mask[j] = 1\n",
    "    return mask\n",
    "\n",
    "all_gold_explanations = []\n",
    "for i, sample in enumerate(test_data):\n",
    "    if len(sample['evidences']) == 0:\n",
    "        sample['evidences'] = ['justarandomwordhere']\n",
    "    sample['review'] = sample['review'].replace('\\n', ' ')\n",
    "    x = tokenizer(\n",
    "        sample['review'],\n",
    "        padding=\"max_length\",\n",
    "        truncation=True,\n",
    "        return_tensors=\"jax\",\n",
    "        max_length=max_len,\n",
    "    )\n",
    "    e = tokenizer(\n",
    "        sample['evidences'],\n",
    "        padding=\"max_length\",\n",
    "        truncation=True,\n",
    "        return_tensors=\"jax\",\n",
    "        max_length=max_len,\n",
    "    )\n",
    "    # z = convert_evidences_to_mask(sample['review'], sample['evidences'])\n",
    "    z = convert_evidences_to_mask(x['input_ids'][0].tolist(), e['input_ids'].tolist())\n",
    "    n = x['attention_mask'].sum(-1).tolist()[0]\n",
    "    z = z[:n]\n",
    "    all_gold_explanations.append(z)"
   ]
  },
  {
   "cell_type": "code",
   "execution_count": 21,
   "id": "dd0148f0",
   "metadata": {},
   "outputs": [
    {
     "data": {
      "text/plain": [
       "(4138, 13325, 0.23695814006757143)"
      ]
     },
     "execution_count": 21,
     "metadata": {},
     "output_type": "execute_result"
    }
   ],
   "source": [
    "total_ok, total_er, total_ok / (total_ok+total_er)"
   ]
  },
  {
   "cell_type": "code",
   "execution_count": 27,
   "id": "17ead4a0",
   "metadata": {
    "scrolled": true
   },
   "outputs": [
    {
     "name": "stdout",
     "output_type": "stream",
     "text": [
      "63 of 62\r"
     ]
    },
    {
     "data": {
      "text/plain": [
       "[1999, 1999, 1999, 1999]"
      ]
     },
     "execution_count": 27,
     "metadata": {},
     "output_type": "execute_result"
    }
   ],
   "source": [
    "valid_tokens, valid_masks, valid_explanations, valid_outputs = get_expls(\n",
    "    test_data, teacher, teacher_params, teacher_explainer, teacher_explainer_params \n",
    ")\n",
    "list(map(len, [valid_tokens, valid_masks, valid_explanations, valid_outputs]))"
   ]
  },
  {
   "cell_type": "markdown",
   "id": "c2ab6508",
   "metadata": {},
   "source": [
    "### Aggregate scores for word pieces in SRC and MT independently"
   ]
  },
  {
   "cell_type": "code",
   "execution_count": 28,
   "id": "31a1ae7a",
   "metadata": {},
   "outputs": [],
   "source": [
    "import torch\n",
    "from utils import aggregate_pieces\n",
    "\n",
    "def get_piece_explanations(all_tokens, all_fp_masks, all_explanations, reduction):\n",
    "    all_pieces = []\n",
    "    for tokens, expl, fp_mask in zip(all_tokens, all_explanations, all_fp_masks):\n",
    "        # aggregate word pieces scores (use my old good torch function)\n",
    "        agg_expl = aggregate_pieces(torch.tensor(expl), torch.tensor(fp_mask), reduction)\n",
    "        # remove <s> and </s>\n",
    "        agg_expl = agg_expl.tolist()[1:-1]\n",
    "        all_pieces.append(agg_expl)\n",
    "    return all_pieces"
   ]
  },
  {
   "cell_type": "code",
   "execution_count": 51,
   "id": "ea29155a",
   "metadata": {},
   "outputs": [],
   "source": [
    "reduction = 'sum'  # first, sum, mean, max\n",
    "valid_masks = [[not tk.startswith('##') for tk in tokens] for tokens in valid_tokens]\n",
    "all_expls = get_piece_explanations(\n",
    "    valid_tokens, valid_masks, valid_explanations, reduction=reduction\n",
    ")\n",
    "all_gold_expls = get_piece_explanations(\n",
    "    valid_tokens, valid_masks, all_gold_explanations, reduction='max'\n",
    ")"
   ]
  },
  {
   "cell_type": "markdown",
   "id": "99616e11",
   "metadata": {},
   "source": [
    "## Evaluating explanations by comparing explanations with word-level QE tags"
   ]
  },
  {
   "cell_type": "code",
   "execution_count": 55,
   "id": "e24974e2",
   "metadata": {},
   "outputs": [
    {
     "data": {
      "text/plain": [
       "38983.0"
      ]
     },
     "execution_count": 55,
     "metadata": {},
     "output_type": "execute_result"
    }
   ],
   "source": [
    "sum(map(sum, all_gold_expls))"
   ]
  },
  {
   "cell_type": "code",
   "execution_count": 31,
   "id": "874d3715",
   "metadata": {},
   "outputs": [],
   "source": [
    "gold_scores = [inp['label'] for inp in test_data]\n",
    "gold_expls = all_gold_expls\n",
    "pred_scores = valid_outputs\n",
    "pred_expls = all_expls"
   ]
  },
  {
   "cell_type": "code",
   "execution_count": 32,
   "id": "a0a6069c",
   "metadata": {},
   "outputs": [
    {
     "name": "stdout",
     "output_type": "stream",
     "text": [
      "Acc: 0.8049024512256128\n"
     ]
    }
   ],
   "source": [
    "print('Acc:', np.mean(np.array(gold_scores) == np.array(pred_scores)))"
   ]
  },
  {
   "cell_type": "code",
   "execution_count": 33,
   "id": "0fad2aef",
   "metadata": {},
   "outputs": [
    {
     "name": "stdout",
     "output_type": "stream",
     "text": [
      "AUC score: 0.7315\n",
      "AP score: 0.3060\n",
      "Recall at top-K: 0.2849\n"
     ]
    }
   ],
   "source": [
    "_ = evaluate_word_level(gold_expls, pred_expls)"
   ]
  },
  {
   "cell_type": "code",
   "execution_count": 34,
   "id": "14afc36c",
   "metadata": {},
   "outputs": [],
   "source": [
    "def eval_plausibility(data, t, t_p, t_e, t_e_p, is_grad_based=False):\n",
    "    valid_tokens, valid_masks, valid_explanations, valid_outputs = get_expls(\n",
    "        data, t, t_p, t_e, t_e_p, is_grad_based=is_grad_based\n",
    "    )\n",
    "    pred_expls = get_piece_explanations(\n",
    "        valid_tokens, valid_masks, valid_explanations, reduction='sum'\n",
    "    )\n",
    "    gold_scores = [inp['label'] for inp in data]\n",
    "    gold_expls = all_gold_expls\n",
    "    pred_scores = valid_outputs\n",
    "    print('Acc:', np.mean(np.array(gold_scores) == np.array(pred_scores)))\n",
    "    evaluate_word_level(gold_expls, pred_expls)\n",
    "    return pred_expls\n",
    "    "
   ]
  },
  {
   "cell_type": "markdown",
   "id": "37d8adb4",
   "metadata": {},
   "source": [
    "### meta-learned explainer"
   ]
  },
  {
   "cell_type": "code",
   "execution_count": 35,
   "id": "8b2dcda8",
   "metadata": {
    "scrolled": true
   },
   "outputs": [
    {
     "name": "stdout",
     "output_type": "stream",
     "text": [
      "Acc: 0.8049024512256128\n",
      "AUC score: 0.7315\n",
      "AP score: 0.3060\n",
      "Recall at top-K: 0.2849\n"
     ]
    }
   ],
   "source": [
    "expls_mtl = eval_plausibility(\n",
    "    test_data,\n",
    "    teacher, \n",
    "    teacher_params, \n",
    "    teacher_explainer, \n",
    "    teacher_explainer_params, \n",
    ")"
   ]
  },
  {
   "cell_type": "markdown",
   "id": "41148ff6",
   "metadata": {},
   "source": [
    "### all attention layers and heads"
   ]
  },
  {
   "cell_type": "code",
   "execution_count": 38,
   "id": "9a07e110",
   "metadata": {
    "scrolled": true
   },
   "outputs": [
    {
     "name": "stdout",
     "output_type": "stream",
     "text": [
      "Acc: 0.8049024512256128\n",
      "AUC score: 0.6824\n",
      "AP score: 0.2114\n",
      "Recall at top-K: 0.1899\n"
     ]
    }
   ],
   "source": [
    "expls_all_attn = eval_plausibility(\n",
    "    test_data,\n",
    "    teacher, \n",
    "    teacher_params, \n",
    "    teacher_explainer_non_trained, \n",
    "    teacher_explainer_params_non_trained,\n",
    "\n",
    ")"
   ]
  },
  {
   "cell_type": "markdown",
   "id": "f5115340",
   "metadata": {},
   "source": [
    "### gradient x input"
   ]
  },
  {
   "cell_type": "code",
   "execution_count": 39,
   "id": "3f2af246",
   "metadata": {
    "scrolled": true
   },
   "outputs": [
    {
     "name": "stdout",
     "output_type": "stream",
     "text": [
      "Acc: 0.8049024512256128\n",
      "AUC score: 0.5092\n",
      "AP score: 0.1385\n",
      "Recall at top-K: 0.1258\n"
     ]
    }
   ],
   "source": [
    "eval_plausibility(\n",
    "    test_data,\n",
    "    teacher, \n",
    "    teacher_params, \n",
    "    input_gradient_teacher_explainer, \n",
    "    input_gradient_teacher_explainer_params,\n",
    "    is_grad_based=True\n",
    ")"
   ]
  },
  {
   "cell_type": "markdown",
   "id": "341c6001",
   "metadata": {},
   "source": [
    "### integrated gradients"
   ]
  },
  {
   "cell_type": "code",
   "execution_count": 40,
   "id": "d62e91ec",
   "metadata": {
    "scrolled": true
   },
   "outputs": [
    {
     "name": "stdout",
     "output_type": "stream",
     "text": [
      "Acc: 0.8049024512256128\n",
      "AUC score: 0.5287\n",
      "AP score: 0.1355\n",
      "Recall at top-K: 0.1201\n"
     ]
    }
   ],
   "source": [
    "eval_plausibility(\n",
    "    test_data,\n",
    "    teacher, \n",
    "    teacher_params, \n",
    "    int_gradient_teacher_explainer, \n",
    "    int_gradient_teacher_explainer_params,\n",
    "    is_grad_based=True\n",
    ")"
   ]
  },
  {
   "cell_type": "markdown",
   "id": "a2153c55",
   "metadata": {},
   "source": [
    "### best attention layer"
   ]
  },
  {
   "cell_type": "code",
   "execution_count": 56,
   "id": "15514746",
   "metadata": {
    "scrolled": true
   },
   "outputs": [
    {
     "name": "stdout",
     "output_type": "stream",
     "text": [
      "Acc: 0.8049024512256128\n",
      "AUC score: 0.5898\n",
      "AP score: 0.1589\n",
      "Recall at top-K: 0.1243\n"
     ]
    }
   ],
   "source": [
    "eval_plausibility(\n",
    "    test_data,\n",
    "    teacher, \n",
    "    teacher_params, \n",
    "    best_layer_teacher_explainer, \n",
    "    best_layer_teacher_explainer_params,\n",
    ")"
   ]
  },
  {
   "cell_type": "markdown",
   "id": "6926720a",
   "metadata": {},
   "source": [
    "### best attention head"
   ]
  },
  {
   "cell_type": "code",
   "execution_count": 57,
   "id": "3734617c",
   "metadata": {
    "scrolled": true
   },
   "outputs": [
    {
     "name": "stdout",
     "output_type": "stream",
     "text": [
      "Acc: 0.8049024512256128\n",
      "AUC score: 0.6038\n",
      "AP score: 0.1796\n",
      "Recall at top-K: 0.1475\n"
     ]
    }
   ],
   "source": [
    "eval_plausibility(\n",
    "    test_data,\n",
    "    teacher, \n",
    "    teacher_params, \n",
    "    best_head_teacher_explainer, \n",
    "    best_head_teacher_explainer_params,\n",
    ")"
   ]
  },
  {
   "cell_type": "markdown",
   "id": "7defb4d7",
   "metadata": {},
   "source": [
    "### last layer attention"
   ]
  },
  {
   "cell_type": "code",
   "execution_count": 58,
   "id": "0179a39c",
   "metadata": {},
   "outputs": [
    {
     "data": {
      "text/plain": [
       "DeviceArray([0.0760358 , 0.07595138, 0.07588542, 0.07590534, 0.07589095,\n",
       "             0.07576945, 0.07577606, 0.07599818, 0.07814347, 0.07859489,\n",
       "             0.07850471, 0.07855242, 0.07899193], dtype=float32)"
      ]
     },
     "execution_count": 58,
     "metadata": {},
     "output_type": "execute_result"
    }
   ],
   "source": [
    "flax.linen.softmax(teacher_params['params']['scalarmix']['coeffs'])  # first item is the embedding layer"
   ]
  },
  {
   "cell_type": "code",
   "execution_count": 59,
   "id": "d0fea930",
   "metadata": {},
   "outputs": [
    {
     "data": {
      "text/plain": [
       "DeviceArray(12, dtype=int32)"
      ]
     },
     "execution_count": 59,
     "metadata": {},
     "output_type": "execute_result"
    }
   ],
   "source": [
    "flax.linen.softmax(teacher_params['params']['scalarmix']['coeffs']).argmax()"
   ]
  },
  {
   "cell_type": "code",
   "execution_count": 60,
   "id": "91fd0c7f",
   "metadata": {},
   "outputs": [
    {
     "name": "stdout",
     "output_type": "stream",
     "text": [
      "Acc: 0.8049024512256128\n",
      "AUC score: 0.6067\n",
      "AP score: 0.1599\n",
      "Recall at top-K: 0.1299\n"
     ]
    }
   ],
   "source": [
    "best_layer_teacher_explainer_params={\n",
    "    'normalize_head_coeffs': 'sparsemax',\n",
    "    'normalizer_fn': 'softmax',\n",
    "    'aggregator_idx': 'mean',\n",
    "    'aggregator_dim': 'row',\n",
    "    'init_fn': 'uniform',\n",
    "    'layer_idx': 11,\n",
    "    'head_idx': None,\n",
    "}\n",
    "best_layer_teacher_explainer, best_layer_teacher_explainer_params = create_explainer(\n",
    "    key=next(keyseq), \n",
    "    inputs=dummy_inputs, \n",
    "    state=dummy_state, \n",
    "    explainer_type='attention_explainer', \n",
    "    explainer_args=best_layer_teacher_explainer_params\n",
    ")\n",
    "eval_plausibility(\n",
    "    test_data,\n",
    "    teacher, \n",
    "    teacher_params, \n",
    "    best_layer_teacher_explainer, \n",
    "    best_layer_teacher_explainer_params,\n",
    ")"
   ]
  },
  {
   "cell_type": "code",
   "execution_count": 62,
   "id": "f9e32574",
   "metadata": {},
   "outputs": [
    {
     "data": {
      "text/plain": [
       "(12, 4)"
      ]
     },
     "execution_count": 62,
     "metadata": {},
     "output_type": "execute_result"
    }
   ],
   "source": [
    "teacher.num_encoder_layers, teacher.num_heads"
   ]
  },
  {
   "cell_type": "code",
   "execution_count": 63,
   "id": "a13564cc",
   "metadata": {},
   "outputs": [
    {
     "name": "stdout",
     "output_type": "stream",
     "text": [
      "-------------\n",
      "layer: 0\n",
      "Acc: 0.8049024512256128\n",
      "AUC score: 0.5189\n",
      "AP score: 0.1374\n",
      "Recall at top-K: 0.1215\n",
      "-------------\n",
      "layer: 1\n",
      "Acc: 0.8049024512256128\n",
      "AUC score: 0.4608\n",
      "AP score: 0.1036\n",
      "Recall at top-K: 0.0725\n",
      "-------------\n",
      "layer: 2\n",
      "Acc: 0.8049024512256128\n",
      "AUC score: 0.5433\n",
      "AP score: 0.1431\n",
      "Recall at top-K: 0.1316\n",
      "-------------\n",
      "layer: 3\n",
      "Acc: 0.8049024512256128\n",
      "AUC score: 0.4959\n",
      "AP score: 0.1183\n",
      "Recall at top-K: 0.0942\n",
      "-------------\n",
      "layer: 4\n",
      "Acc: 0.8049024512256128\n",
      "AUC score: 0.4962\n",
      "AP score: 0.1222\n",
      "Recall at top-K: 0.0954\n",
      "-------------\n",
      "layer: 5\n",
      "Acc: 0.8049024512256128\n",
      "AUC score: 0.5049\n",
      "AP score: 0.1291\n",
      "Recall at top-K: 0.1097\n",
      "-------------\n",
      "layer: 6\n",
      "Acc: 0.8049024512256128\n",
      "AUC score: 0.6512\n",
      "AP score: 0.2028\n",
      "Recall at top-K: 0.1884\n",
      "-------------\n",
      "layer: 7\n",
      "Acc: 0.8049024512256128\n",
      "AUC score: 0.7463\n",
      "AP score: 0.3267\n",
      "Recall at top-K: 0.2943\n",
      "-------------\n",
      "layer: 8\n",
      "Acc: 0.8049024512256128\n",
      "AUC score: 0.7510\n",
      "AP score: 0.3144\n",
      "Recall at top-K: 0.2850\n",
      "-------------\n",
      "layer: 9\n",
      "Acc: 0.8049024512256128\n",
      "AUC score: 0.6717\n",
      "AP score: 0.1881\n",
      "Recall at top-K: 0.1577\n",
      "-------------\n",
      "layer: 10\n",
      "Acc: 0.8049024512256128\n",
      "AUC score: 0.5898\n",
      "AP score: 0.1589\n",
      "Recall at top-K: 0.1243\n",
      "-------------\n",
      "layer: 11\n",
      "Acc: 0.8049024512256128\n",
      "AUC score: 0.6067\n",
      "AP score: 0.1599\n",
      "Recall at top-K: 0.1299\n"
     ]
    }
   ],
   "source": [
    "for layer_id in range(12):\n",
    "    print('-------------')\n",
    "    print('layer:', layer_id)\n",
    "    best_layer_teacher_explainer_params={\n",
    "        'normalize_head_coeffs': 'sparsemax',\n",
    "        'normalizer_fn': 'softmax',\n",
    "        'aggregator_idx': 'mean',\n",
    "        'aggregator_dim': 'row',\n",
    "        'init_fn': 'uniform',\n",
    "        'layer_idx': layer_id,\n",
    "        'head_idx': None,\n",
    "    }\n",
    "    best_layer_teacher_explainer, best_layer_teacher_explainer_params = create_explainer(\n",
    "        key=next(keyseq), \n",
    "        inputs=dummy_inputs, \n",
    "        state=dummy_state, \n",
    "        explainer_type='attention_explainer', \n",
    "        explainer_args=best_layer_teacher_explainer_params\n",
    "    )\n",
    "    eval_plausibility(\n",
    "        test_data,\n",
    "        teacher, \n",
    "        teacher_params, \n",
    "        best_layer_teacher_explainer, \n",
    "        best_layer_teacher_explainer_params,\n",
    "    )"
   ]
  },
  {
   "cell_type": "code",
   "execution_count": 72,
   "id": "0ba3c580",
   "metadata": {},
   "outputs": [
    {
     "data": {
      "text/plain": [
       "[0, 1, 0, 1, 1, 0, 0, 0, 1, 1]"
      ]
     },
     "execution_count": 72,
     "metadata": {},
     "output_type": "execute_result"
    }
   ],
   "source": [
    "jax.random.bernoulli(next(keyseq), p=0.5, shape=(10,)).astype(int).tolist()"
   ]
  },
  {
   "cell_type": "code",
   "execution_count": 74,
   "id": "9a40f32f",
   "metadata": {},
   "outputs": [
    {
     "name": "stdout",
     "output_type": "stream",
     "text": [
      "0.08240203093326118\n",
      "AUC score: 0.5000\n",
      "AP score: 0.1024\n",
      "Recall at top-K: 0.1059\n",
      "AUC score: 0.4989\n",
      "AP score: 0.1056\n",
      "Recall at top-K: 0.1055\n"
     ]
    }
   ],
   "source": [
    "t_1 = sum(map(sum, gold_expls))\n",
    "t_n = sum(map(len, gold_expls))\n",
    "\n",
    "print(t_1/t_n)\n",
    "\n",
    "fake_pred_expls = [\n",
    "    [1]*len(ge) for ge in gold_expls \n",
    "]\n",
    "_ = evaluate_word_level(gold_expls, fake_pred_expls)\n",
    "\n",
    "fake_pred_expls2 = [\n",
    "    jax.random.bernoulli(next(keyseq), p=t_1/t_n, shape=(len(ge),)).astype(int).tolist() for ge in gold_expls \n",
    "]\n",
    "_ = evaluate_word_level(gold_expls, fake_pred_expls2)"
   ]
  },
  {
   "cell_type": "code",
   "execution_count": 75,
   "id": "5d25af46",
   "metadata": {
    "scrolled": false
   },
   "outputs": [
    {
     "name": "stdout",
     "output_type": "stream",
     "text": [
      "---------------------\n",
      "layer 0 | head 0\n",
      "Acc: 0.8049024512256128\n",
      "AUC score: 0.5453\n",
      "AP score: 0.1451\n",
      "Recall at top-K: 0.1274\n",
      "---------------------\n",
      "layer 0 | head 1\n",
      "Acc: 0.8049024512256128\n",
      "AUC score: 0.5217\n",
      "AP score: 0.1387\n",
      "Recall at top-K: 0.1198\n",
      "---------------------\n",
      "layer 0 | head 2\n",
      "Acc: 0.8049024512256128\n",
      "AUC score: 0.4895\n",
      "AP score: 0.1204\n",
      "Recall at top-K: 0.0965\n",
      "---------------------\n",
      "layer 0 | head 3\n",
      "Acc: 0.8049024512256128\n",
      "AUC score: 0.5033\n",
      "AP score: 0.1382\n",
      "Recall at top-K: 0.1227\n",
      "---------------------\n",
      "layer 1 | head 0\n",
      "Acc: 0.8049024512256128\n",
      "AUC score: 0.5290\n",
      "AP score: 0.1260\n",
      "Recall at top-K: 0.1046\n",
      "---------------------\n",
      "layer 1 | head 1\n",
      "Acc: 0.8049024512256128\n",
      "AUC score: 0.4627\n",
      "AP score: 0.1108\n",
      "Recall at top-K: 0.0889\n",
      "---------------------\n",
      "layer 1 | head 2\n",
      "Acc: 0.8049024512256128\n",
      "AUC score: 0.4661\n",
      "AP score: 0.1039\n",
      "Recall at top-K: 0.0716\n",
      "---------------------\n",
      "layer 1 | head 3\n",
      "Acc: 0.8049024512256128\n",
      "AUC score: 0.4578\n",
      "AP score: 0.1068\n",
      "Recall at top-K: 0.0774\n",
      "---------------------\n",
      "layer 2 | head 0\n",
      "Acc: 0.8049024512256128\n",
      "AUC score: 0.4283\n",
      "AP score: 0.0996\n",
      "Recall at top-K: 0.0657\n",
      "---------------------\n",
      "layer 2 | head 1\n",
      "Acc: 0.8049024512256128\n",
      "AUC score: 0.5747\n",
      "AP score: 0.1739\n",
      "Recall at top-K: 0.1650\n",
      "---------------------\n",
      "layer 2 | head 2\n",
      "Acc: 0.8049024512256128\n",
      "AUC score: 0.5608\n",
      "AP score: 0.1460\n",
      "Recall at top-K: 0.1271\n",
      "---------------------\n",
      "layer 2 | head 3\n",
      "Acc: 0.8049024512256128\n",
      "AUC score: 0.5103\n",
      "AP score: 0.1183\n",
      "Recall at top-K: 0.0928\n",
      "---------------------\n",
      "layer 3 | head 0\n",
      "Acc: 0.8049024512256128\n",
      "AUC score: 0.4982\n",
      "AP score: 0.1212\n",
      "Recall at top-K: 0.0968\n",
      "---------------------\n",
      "layer 3 | head 1\n",
      "Acc: 0.8049024512256128\n",
      "AUC score: 0.4721\n",
      "AP score: 0.1159\n",
      "Recall at top-K: 0.0884\n",
      "---------------------\n",
      "layer 3 | head 2\n",
      "Acc: 0.8049024512256128\n",
      "AUC score: 0.5496\n",
      "AP score: 0.1504\n",
      "Recall at top-K: 0.1335\n",
      "---------------------\n",
      "layer 3 | head 3\n",
      "Acc: 0.8049024512256128\n",
      "AUC score: 0.4678\n",
      "AP score: 0.1027\n",
      "Recall at top-K: 0.0683\n",
      "---------------------\n",
      "layer 4 | head 0\n",
      "Acc: 0.8049024512256128\n",
      "AUC score: 0.4808\n",
      "AP score: 0.1183\n",
      "Recall at top-K: 0.0923\n",
      "---------------------\n",
      "layer 4 | head 1\n",
      "Acc: 0.8049024512256128\n",
      "AUC score: 0.4835\n",
      "AP score: 0.1122\n",
      "Recall at top-K: 0.0800\n",
      "---------------------\n",
      "layer 4 | head 2\n",
      "Acc: 0.8049024512256128\n",
      "AUC score: 0.5213\n",
      "AP score: 0.1375\n",
      "Recall at top-K: 0.1129\n",
      "---------------------\n",
      "layer 4 | head 3\n",
      "Acc: 0.8049024512256128\n",
      "AUC score: 0.5007\n",
      "AP score: 0.1251\n",
      "Recall at top-K: 0.1043\n",
      "---------------------\n",
      "layer 5 | head 0\n",
      "Acc: 0.8049024512256128\n",
      "AUC score: 0.5080\n",
      "AP score: 0.1300\n",
      "Recall at top-K: 0.1130\n",
      "---------------------\n",
      "layer 5 | head 1\n",
      "Acc: 0.8049024512256128\n",
      "AUC score: 0.5329\n",
      "AP score: 0.1396\n",
      "Recall at top-K: 0.1272\n",
      "---------------------\n",
      "layer 5 | head 2\n",
      "Acc: 0.8049024512256128\n",
      "AUC score: 0.5030\n",
      "AP score: 0.1280\n",
      "Recall at top-K: 0.1067\n",
      "---------------------\n",
      "layer 5 | head 3\n",
      "Acc: 0.8049024512256128\n",
      "AUC score: 0.4755\n",
      "AP score: 0.1132\n",
      "Recall at top-K: 0.0862\n",
      "---------------------\n",
      "layer 6 | head 0\n",
      "Acc: 0.8049024512256128\n",
      "AUC score: 0.6708\n",
      "AP score: 0.2287\n",
      "Recall at top-K: 0.2173\n",
      "---------------------\n",
      "layer 6 | head 1\n",
      "Acc: 0.8049024512256128\n",
      "AUC score: 0.7053\n",
      "AP score: 0.2739\n",
      "Recall at top-K: 0.2566\n",
      "---------------------\n",
      "layer 6 | head 2\n",
      "Acc: 0.8049024512256128\n",
      "AUC score: 0.5862\n",
      "AP score: 0.1477\n",
      "Recall at top-K: 0.1232\n",
      "---------------------\n",
      "layer 6 | head 3\n",
      "Acc: 0.8049024512256128\n",
      "AUC score: 0.4845\n",
      "AP score: 0.1185\n",
      "Recall at top-K: 0.0875\n",
      "---------------------\n",
      "layer 7 | head 0\n",
      "Acc: 0.8049024512256128\n",
      "AUC score: 0.7128\n",
      "AP score: 0.2694\n",
      "Recall at top-K: 0.2405\n",
      "---------------------\n",
      "layer 7 | head 1\n",
      "Acc: 0.8049024512256128\n",
      "AUC score: 0.7375\n",
      "AP score: 0.3088\n",
      "Recall at top-K: 0.2870\n",
      "---------------------\n",
      "layer 7 | head 2\n",
      "Acc: 0.8049024512256128\n",
      "AUC score: 0.5321\n",
      "AP score: 0.1301\n",
      "Recall at top-K: 0.1050\n",
      "---------------------\n",
      "layer 7 | head 3\n",
      "Acc: 0.8049024512256128\n",
      "AUC score: 0.7425\n",
      "AP score: 0.3174\n",
      "Recall at top-K: 0.2920\n",
      "---------------------\n",
      "layer 8 | head 0\n",
      "Acc: 0.8049024512256128\n",
      "AUC score: 0.7126\n",
      "AP score: 0.1966\n",
      "Recall at top-K: 0.1692\n",
      "---------------------\n",
      "layer 8 | head 1\n",
      "Acc: 0.8049024512256128\n",
      "AUC score: 0.7174\n",
      "AP score: 0.2731\n",
      "Recall at top-K: 0.2518\n",
      "---------------------\n",
      "layer 8 | head 2\n",
      "Acc: 0.8049024512256128\n",
      "AUC score: 0.7485\n",
      "AP score: 0.3261\n",
      "Recall at top-K: 0.3031\n",
      "---------------------\n",
      "layer 8 | head 3\n",
      "Acc: 0.8049024512256128\n",
      "AUC score: 0.7434\n",
      "AP score: 0.2936\n",
      "Recall at top-K: 0.2701\n",
      "---------------------\n",
      "layer 9 | head 0\n",
      "Acc: 0.8049024512256128\n",
      "AUC score: 0.5683\n",
      "AP score: 0.1594\n",
      "Recall at top-K: 0.1318\n",
      "---------------------\n",
      "layer 9 | head 1\n",
      "Acc: 0.8049024512256128\n",
      "AUC score: 0.6495\n",
      "AP score: 0.1747\n",
      "Recall at top-K: 0.1486\n",
      "---------------------\n",
      "layer 9 | head 2\n",
      "Acc: 0.8049024512256128\n",
      "AUC score: 0.6803\n",
      "AP score: 0.2224\n",
      "Recall at top-K: 0.2056\n",
      "---------------------\n",
      "layer 9 | head 3\n",
      "Acc: 0.8049024512256128\n",
      "AUC score: 0.6038\n",
      "AP score: 0.1796\n",
      "Recall at top-K: 0.1475\n",
      "---------------------\n",
      "layer 10 | head 0\n",
      "Acc: 0.8049024512256128\n",
      "AUC score: 0.5346\n",
      "AP score: 0.1523\n",
      "Recall at top-K: 0.1273\n",
      "---------------------\n",
      "layer 10 | head 1\n",
      "Acc: 0.8049024512256128\n",
      "AUC score: 0.5587\n",
      "AP score: 0.1401\n",
      "Recall at top-K: 0.1104\n",
      "---------------------\n",
      "layer 10 | head 2\n",
      "Acc: 0.8049024512256128\n",
      "AUC score: 0.5937\n",
      "AP score: 0.1616\n",
      "Recall at top-K: 0.1320\n",
      "---------------------\n",
      "layer 10 | head 3\n",
      "Acc: 0.8049024512256128\n",
      "AUC score: 0.5907\n",
      "AP score: 0.1613\n",
      "Recall at top-K: 0.1337\n",
      "---------------------\n",
      "layer 11 | head 0\n",
      "Acc: 0.8049024512256128\n",
      "AUC score: 0.5289\n",
      "AP score: 0.1434\n",
      "Recall at top-K: 0.1200\n",
      "---------------------\n",
      "layer 11 | head 1\n",
      "Acc: 0.8049024512256128\n",
      "AUC score: 0.6376\n",
      "AP score: 0.1764\n",
      "Recall at top-K: 0.1491\n",
      "---------------------\n",
      "layer 11 | head 2\n",
      "Acc: 0.8049024512256128\n",
      "AUC score: 0.5508\n",
      "AP score: 0.1405\n",
      "Recall at top-K: 0.1116\n",
      "---------------------\n",
      "layer 11 | head 3\n",
      "Acc: 0.8049024512256128\n",
      "AUC score: 0.5701\n",
      "AP score: 0.1505\n",
      "Recall at top-K: 0.1207\n"
     ]
    }
   ],
   "source": [
    "for layer_id in range(12):\n",
    "    for head_id in range(4):\n",
    "        print('---------------------')\n",
    "        print('layer {} | head {}'.format(layer_id, head_id))\n",
    "        best_layer_teacher_explainer_params={\n",
    "            'normalize_head_coeffs': 'sparsemax',\n",
    "            'normalizer_fn': 'softmax',\n",
    "            'aggregator_idx': 'mean',\n",
    "            'aggregator_dim': 'row',\n",
    "            'init_fn': 'uniform',\n",
    "            'layer_idx': layer_id,\n",
    "            'head_idx': head_id,\n",
    "        }\n",
    "        best_layer_teacher_explainer, best_layer_teacher_explainer_params = create_explainer(\n",
    "            key=next(keyseq), \n",
    "            inputs=dummy_inputs, \n",
    "            state=dummy_state, \n",
    "            explainer_type='attention_explainer', \n",
    "            explainer_args=best_layer_teacher_explainer_params\n",
    "        )\n",
    "        eval_plausibility(\n",
    "            test_data,\n",
    "            teacher, \n",
    "            teacher_params, \n",
    "            best_layer_teacher_explainer, \n",
    "            best_layer_teacher_explainer_params,\n",
    "        )"
   ]
  }
 ],
 "metadata": {
  "kernelspec": {
   "display_name": "Python 3 (ipykernel)",
   "language": "python",
   "name": "python3"
  },
  "language_info": {
   "codemirror_mode": {
    "name": "ipython",
    "version": 3
   },
   "file_extension": ".py",
   "mimetype": "text/x-python",
   "name": "python",
   "nbconvert_exporter": "python",
   "pygments_lexer": "ipython3",
   "version": "3.9.7"
  }
 },
 "nbformat": 4,
 "nbformat_minor": 5
}
