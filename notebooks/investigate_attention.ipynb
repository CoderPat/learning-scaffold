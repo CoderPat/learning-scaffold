{
 "cells": [
  {
   "cell_type": "code",
   "execution_count": 68,
   "id": "5d207c95",
   "metadata": {},
   "outputs": [],
   "source": [
    "import torch\n",
    "import numpy as np\n",
    "from scipy.stats import pearsonr\n",
    "from sklearn.metrics import roc_auc_score, average_precision_score\n",
    "from matplotlib import pyplot as plt\n",
    "import seaborn as sns\n",
    "import pandas as pd\n",
    "from IPython.core.display import display, HTML\n",
    "from bertviz import head_view, model_view\n",
    "\n",
    "from evaluate_explanations import evaluate_word_level, evaluate_sentence_level\n",
    "from utils import aggregate_pieces, read_qe_files\n",
    "from model.xlm_roberta import load_checkpoint\n",
    "from explain_attn import get_valid_explanations"
   ]
  },
  {
   "cell_type": "code",
   "execution_count": 69,
   "id": "b1ff1f39",
   "metadata": {},
   "outputs": [],
   "source": [
    "def detokenize(pieces):\n",
    "    return ''.join(pieces).replace('▁', ' ').replace('</s>', ' </s>')\n",
    "\n",
    "def colorize_twoway(words, color_array, max_width_shown=1800):\n",
    "    template_pos = '<span class=\"barcode\"; style=\"color: black; background-color: rgba(0, 255, 0, {}); display:inline-block; font-size:12px;\">&nbsp {} &nbsp</span>'\n",
    "    template_neg = '<span class=\"barcode\"; style=\"color: black; background-color: rgba(255, 0, 0, {}); display:inline-block; font-size:12px;\">&nbsp {} &nbsp</span>'\n",
    "    colored_string = ''\n",
    "    f = lambda w: w.replace('<', 'ᐸ').replace('>', 'ᐳ')\n",
    "    for word, color in zip(words, color_array / color_array.abs().max()):\n",
    "        if color > 0:\n",
    "            colored_string += template_pos.format(color, f(word))\n",
    "        else:\n",
    "            colored_string += template_neg.format(-color, f(word))\n",
    "    html_text = '<div style=\"100%\">{}</div>'.format(colored_string)\n",
    "    display(HTML(html_text))\n",
    "\n",
    "def plot_attention_map(words, attn_weights, vmax=1, ax=None):\n",
    "    df = pd.DataFrame(attn_weights.numpy(), columns=words, index=words)\n",
    "    sns.heatmap(df, vmax=vmax, cmap=\"Greens\", square=True, cbar=False, ax=ax)"
   ]
  },
  {
   "cell_type": "code",
   "execution_count": 70,
   "id": "ec898724",
   "metadata": {},
   "outputs": [
    {
     "name": "stderr",
     "output_type": "stream",
     "text": [
      "Some weights of the model checkpoint at xlm-roberta-large were not used when initializing SparseXLMRobertaModel: ['lm_head.layer_norm.bias', 'lm_head.decoder.weight', 'lm_head.dense.bias', 'lm_head.dense.weight', 'lm_head.bias', 'lm_head.layer_norm.weight']\n",
      "- This IS expected if you are initializing SparseXLMRobertaModel from the checkpoint of a model trained on another task or with another architecture (e.g. initializing a BertForSequenceClassification model from a BertForPreTraining model).\n",
      "- This IS NOT expected if you are initializing SparseXLMRobertaModel from the checkpoint of a model that you expect to be exactly identical (initializing a BertForSequenceClassification model from a BertForSequenceClassification model).\n"
     ]
    },
    {
     "name": "stdout",
     "output_type": "stream",
     "text": [
      "\u001b[31mAdding Adaptors.\u001b[0m\n"
     ]
    }
   ],
   "source": [
    "device = torch.device(\"cpu\")\n",
    "\n",
    "# 1) Load Checkpoint\n",
    "checkpoint = 'experiments/lightning/version_02-08-2021--23-36-52/epoch=4-step=30624.ckpt'\n",
    "model = load_checkpoint(checkpoint, output_norm=False, norm_strategy='weighted_norm')\n",
    "model.eval()\n",
    "model.zero_grad()\n",
    "model.to(device)\n",
    "\n",
    "# 2) Prepare TESTSET\n",
    "data = read_qe_files('data/ro-en/dev')\n",
    "e_mt_gold = [sample[\"tgt_tags\"] for sample in data]\n",
    "e_src_gold = [sample[\"src_tags\"] for sample in data]"
   ]
  },
  {
   "cell_type": "code",
   "execution_count": 181,
   "id": "912fa54a",
   "metadata": {},
   "outputs": [],
   "source": [
    "idx = 10\n",
    "layer_id = 18\n",
    "head_id = 3\n",
    "reduction = 'sum'\n",
    "\n",
    "sample = data[idx]\n",
    "mt_word_tags = torch.tensor(e_mt_gold[idx])\n",
    "src_word_tags = torch.tensor(e_src_gold[idx])\n",
    "\n",
    "with torch.no_grad():\n",
    "    batch, targets = model.prepare_sample([sample], cuda=False)\n",
    "    pred_score, attn = model.forward(**batch, return_attentions=True)\n",
    "    pred_score = pred_score.view(-1).detach().cpu().item()\n",
    "    attn = torch.stack(attn).detach().cpu()\n",
    "    input_ids = batch['input_ids']\n",
    "    attn_mask = batch['attention_mask']\n",
    "    fs_mask = batch['first_sentence_mask']\n",
    "    eos_idx = fs_mask.squeeze().sum()\n",
    "    fp_mask = batch['first_piece_mask']\n",
    "    gold_score = targets['score'].squeeze().item()\n",
    "    tokens = model.tokenizer.tokenizer.convert_ids_to_tokens(input_ids.squeeze())\n",
    "    seq_len = attn.shape[-1]\n",
    "\n",
    "mt_attn = attn[:, :, :, :eos_idx, :eos_idx]\n",
    "src_attn = attn[:, :, :, eos_idx:, eos_idx:]\n",
    "mt_tokens = tokens[:eos_idx]\n",
    "src_tokens = tokens[eos_idx:]\n",
    "\n",
    "attn_sum = (attn[layer_id, 0, head_id] * attn_mask.unsqueeze(-1).float()).sum(1)\n",
    "attn_avg = attn_sum / attn_mask.sum(-1).unsqueeze(-1).float()\n",
    "explanations = get_valid_explanations(attn_avg, attn_mask, fs_mask, fp_mask)\n",
    "e_mt, e_src, e_mt_fp_mask, e_src_fp_mask = explanations[0]\n",
    "e_mt = torch.from_numpy(e_mt)\n",
    "e_src = torch.from_numpy(e_src)\n",
    "e_mt_fp_mask = torch.from_numpy(e_mt_fp_mask)\n",
    "e_src_fp_mask = torch.from_numpy(e_src_fp_mask)\n",
    "\n",
    "ag_e_mt = aggregate_pieces(e_mt, e_mt_fp_mask, reduction=reduction)\n",
    "ag_e_src = aggregate_pieces(e_src, e_src_fp_mask, reduction=reduction)"
   ]
  },
  {
   "cell_type": "code",
   "execution_count": 182,
   "id": "046bf387",
   "metadata": {},
   "outputs": [
    {
     "name": "stdout",
     "output_type": "stream",
     "text": [
      "pred score: 26.296628952026367\n",
      "gold score: 25.16666603088379\n",
      "\n",
      "pred:\n"
     ]
    },
    {
     "data": {
      "text/html": [
       "<div style=\"100%\"><span class=\"barcode\"; style=\"color: black; background-color: rgba(0, 255, 0, 0.04705343395471573); display:inline-block; font-size:12px;\">&nbsp ᐸsᐳ &nbsp</span><span class=\"barcode\"; style=\"color: black; background-color: rgba(0, 255, 0, 0.05724577233195305); display:inline-block; font-size:12px;\">&nbsp spread &nbsp</span><span class=\"barcode\"; style=\"color: black; background-color: rgba(0, 255, 0, 0.027257926762104034); display:inline-block; font-size:12px;\">&nbsp darkness &nbsp</span><span class=\"barcode\"; style=\"color: black; background-color: rgba(0, 255, 0, 0.0420088917016983); display:inline-block; font-size:12px;\">&nbsp , &nbsp</span><span class=\"barcode\"; style=\"color: black; background-color: rgba(0, 255, 0, 0.007030811160802841); display:inline-block; font-size:12px;\">&nbsp so &nbsp</span><span class=\"barcode\"; style=\"color: black; background-color: rgba(0, 255, 0, 0.01874813437461853); display:inline-block; font-size:12px;\">&nbsp is &nbsp</span><span class=\"barcode\"; style=\"color: black; background-color: rgba(0, 255, 0, 0.007574528455734253); display:inline-block; font-size:12px;\">&nbsp the &nbsp</span><span class=\"barcode\"; style=\"color: black; background-color: rgba(0, 255, 0, 0.09919116646051407); display:inline-block; font-size:12px;\">&nbsp work &nbsp</span><span class=\"barcode\"; style=\"color: black; background-color: rgba(0, 255, 0, 0.030882453545928); display:inline-block; font-size:12px;\">&nbsp of &nbsp</span><span class=\"barcode\"; style=\"color: black; background-color: rgba(0, 255, 0, 0.009265060536563396); display:inline-block; font-size:12px;\">&nbsp the &nbsp</span><span class=\"barcode\"; style=\"color: black; background-color: rgba(0, 255, 0, 0.7214447259902954); display:inline-block; font-size:12px;\">&nbsp Scottish &nbsp</span><span class=\"barcode\"; style=\"color: black; background-color: rgba(0, 255, 0, 1.0); display:inline-block; font-size:12px;\">&nbsp Duchy &nbsp</span><span class=\"barcode\"; style=\"color: black; background-color: rgba(0, 255, 0, 0.03838258236646652); display:inline-block; font-size:12px;\">&nbsp and &nbsp</span><span class=\"barcode\"; style=\"color: black; background-color: rgba(0, 255, 0, 0.18700769543647766); display:inline-block; font-size:12px;\">&nbsp slipping &nbsp</span><span class=\"barcode\"; style=\"color: black; background-color: rgba(0, 255, 0, 0.04734896495938301); display:inline-block; font-size:12px;\">&nbsp . &nbsp</span><span class=\"barcode\"; style=\"color: black; background-color: rgba(0, 255, 0, 0.08578664064407349); display:inline-block; font-size:12px;\">&nbsp ᐸ/sᐳ &nbsp</span></div>"
      ],
      "text/plain": [
       "<IPython.core.display.HTML object>"
      ]
     },
     "metadata": {},
     "output_type": "display_data"
    },
    {
     "name": "stdout",
     "output_type": "stream",
     "text": [
      "gold:\n"
     ]
    },
    {
     "data": {
      "text/html": [
       "<div style=\"100%\"><span class=\"barcode\"; style=\"color: black; background-color: rgba(255, 0, 0, -0.0); display:inline-block; font-size:12px;\">&nbsp ᐸsᐳ &nbsp</span><span class=\"barcode\"; style=\"color: black; background-color: rgba(255, 0, 0, -0.0); display:inline-block; font-size:12px;\">&nbsp spread &nbsp</span><span class=\"barcode\"; style=\"color: black; background-color: rgba(255, 0, 0, -0.0); display:inline-block; font-size:12px;\">&nbsp darkness &nbsp</span><span class=\"barcode\"; style=\"color: black; background-color: rgba(255, 0, 0, -0.0); display:inline-block; font-size:12px;\">&nbsp , &nbsp</span><span class=\"barcode\"; style=\"color: black; background-color: rgba(255, 0, 0, -0.0); display:inline-block; font-size:12px;\">&nbsp so &nbsp</span><span class=\"barcode\"; style=\"color: black; background-color: rgba(0, 255, 0, 1.0); display:inline-block; font-size:12px;\">&nbsp is &nbsp</span><span class=\"barcode\"; style=\"color: black; background-color: rgba(255, 0, 0, -0.0); display:inline-block; font-size:12px;\">&nbsp the &nbsp</span><span class=\"barcode\"; style=\"color: black; background-color: rgba(255, 0, 0, -0.0); display:inline-block; font-size:12px;\">&nbsp work &nbsp</span><span class=\"barcode\"; style=\"color: black; background-color: rgba(255, 0, 0, -0.0); display:inline-block; font-size:12px;\">&nbsp of &nbsp</span><span class=\"barcode\"; style=\"color: black; background-color: rgba(255, 0, 0, -0.0); display:inline-block; font-size:12px;\">&nbsp the &nbsp</span><span class=\"barcode\"; style=\"color: black; background-color: rgba(0, 255, 0, 1.0); display:inline-block; font-size:12px;\">&nbsp Scottish &nbsp</span><span class=\"barcode\"; style=\"color: black; background-color: rgba(0, 255, 0, 1.0); display:inline-block; font-size:12px;\">&nbsp Duchy &nbsp</span><span class=\"barcode\"; style=\"color: black; background-color: rgba(255, 0, 0, -0.0); display:inline-block; font-size:12px;\">&nbsp and &nbsp</span><span class=\"barcode\"; style=\"color: black; background-color: rgba(0, 255, 0, 1.0); display:inline-block; font-size:12px;\">&nbsp slipping &nbsp</span><span class=\"barcode\"; style=\"color: black; background-color: rgba(0, 255, 0, 1.0); display:inline-block; font-size:12px;\">&nbsp . &nbsp</span><span class=\"barcode\"; style=\"color: black; background-color: rgba(255, 0, 0, -0.0); display:inline-block; font-size:12px;\">&nbsp ᐸ/sᐳ &nbsp</span></div>"
      ],
      "text/plain": [
       "<IPython.core.display.HTML object>"
      ]
     },
     "metadata": {},
     "output_type": "display_data"
    },
    {
     "name": "stdout",
     "output_type": "stream",
     "text": [
      "\n",
      "pred:\n"
     ]
    },
    {
     "data": {
      "text/html": [
       "<div style=\"100%\"><span class=\"barcode\"; style=\"color: black; background-color: rgba(0, 255, 0, 0.08700542151927948); display:inline-block; font-size:12px;\">&nbsp ᐸ/sᐳ &nbsp</span><span class=\"barcode\"; style=\"color: black; background-color: rgba(0, 255, 0, 0.3420240581035614); display:inline-block; font-size:12px;\">&nbsp împrăștie &nbsp</span><span class=\"barcode\"; style=\"color: black; background-color: rgba(0, 255, 0, 0.10025069862604141); display:inline-block; font-size:12px;\">&nbsp întunericul &nbsp</span><span class=\"barcode\"; style=\"color: black; background-color: rgba(0, 255, 0, 0.34717410802841187); display:inline-block; font-size:12px;\">&nbsp , &nbsp</span><span class=\"barcode\"; style=\"color: black; background-color: rgba(0, 255, 0, 0.06327268481254578); display:inline-block; font-size:12px;\">&nbsp tot &nbsp</span><span class=\"barcode\"; style=\"color: black; background-color: rgba(0, 255, 0, 0.0679173469543457); display:inline-block; font-size:12px;\">&nbsp așa &nbsp</span><span class=\"barcode\"; style=\"color: black; background-color: rgba(0, 255, 0, 0.8197466135025024); display:inline-block; font-size:12px;\">&nbsp lucrările &nbsp</span><span class=\"barcode\"; style=\"color: black; background-color: rgba(0, 255, 0, 0.15299294888973236); display:inline-block; font-size:12px;\">&nbsp Duhului &nbsp</span><span class=\"barcode\"; style=\"color: black; background-color: rgba(0, 255, 0, 0.4664273262023926); display:inline-block; font-size:12px;\">&nbsp scot &nbsp</span><span class=\"barcode\"; style=\"color: black; background-color: rgba(0, 255, 0, 0.22893157601356506); display:inline-block; font-size:12px;\">&nbsp și &nbsp</span><span class=\"barcode\"; style=\"color: black; background-color: rgba(0, 255, 0, 1.0); display:inline-block; font-size:12px;\">&nbsp alungă &nbsp</span><span class=\"barcode\"; style=\"color: black; background-color: rgba(0, 255, 0, 0.6763554811477661); display:inline-block; font-size:12px;\">&nbsp ᐸ/sᐳ &nbsp</span></div>"
      ],
      "text/plain": [
       "<IPython.core.display.HTML object>"
      ]
     },
     "metadata": {},
     "output_type": "display_data"
    },
    {
     "name": "stdout",
     "output_type": "stream",
     "text": [
      "gold:\n"
     ]
    },
    {
     "data": {
      "text/html": [
       "<div style=\"100%\"><span class=\"barcode\"; style=\"color: black; background-color: rgba(255, 0, 0, -0.0); display:inline-block; font-size:12px;\">&nbsp ᐸ/sᐳ &nbsp</span><span class=\"barcode\"; style=\"color: black; background-color: rgba(255, 0, 0, -0.0); display:inline-block; font-size:12px;\">&nbsp împrăștie &nbsp</span><span class=\"barcode\"; style=\"color: black; background-color: rgba(255, 0, 0, -0.0); display:inline-block; font-size:12px;\">&nbsp întunericul &nbsp</span><span class=\"barcode\"; style=\"color: black; background-color: rgba(255, 0, 0, -0.0); display:inline-block; font-size:12px;\">&nbsp , &nbsp</span><span class=\"barcode\"; style=\"color: black; background-color: rgba(255, 0, 0, -0.0); display:inline-block; font-size:12px;\">&nbsp tot &nbsp</span><span class=\"barcode\"; style=\"color: black; background-color: rgba(255, 0, 0, -0.0); display:inline-block; font-size:12px;\">&nbsp așa &nbsp</span><span class=\"barcode\"; style=\"color: black; background-color: rgba(255, 0, 0, -0.0); display:inline-block; font-size:12px;\">&nbsp lucrările &nbsp</span><span class=\"barcode\"; style=\"color: black; background-color: rgba(0, 255, 0, 1.0); display:inline-block; font-size:12px;\">&nbsp Duhului &nbsp</span><span class=\"barcode\"; style=\"color: black; background-color: rgba(0, 255, 0, 1.0); display:inline-block; font-size:12px;\">&nbsp scot &nbsp</span><span class=\"barcode\"; style=\"color: black; background-color: rgba(255, 0, 0, -0.0); display:inline-block; font-size:12px;\">&nbsp și &nbsp</span><span class=\"barcode\"; style=\"color: black; background-color: rgba(0, 255, 0, 1.0); display:inline-block; font-size:12px;\">&nbsp alungă &nbsp</span><span class=\"barcode\"; style=\"color: black; background-color: rgba(255, 0, 0, -0.0); display:inline-block; font-size:12px;\">&nbsp ᐸ/sᐳ &nbsp</span></div>"
      ],
      "text/plain": [
       "<IPython.core.display.HTML object>"
      ]
     },
     "metadata": {},
     "output_type": "display_data"
    }
   ],
   "source": [
    "print('pred score:', pred_score)\n",
    "print('gold score:', gold_score)\n",
    "print('')\n",
    "print('pred:')\n",
    "# colorize_twoway(mt_tokens, e_mt)\n",
    "colorize_twoway(detokenize(mt_tokens).split(), ag_e_mt)\n",
    "print('gold:') \n",
    "colorize_twoway(detokenize(mt_tokens).split(), torch.tensor([0] + mt_word_tags.tolist() + [0]))\n",
    "print('')\n",
    "print('pred:')\n",
    "# colorize_twoway(src_tokens, e_src)\n",
    "colorize_twoway(detokenize(src_tokens).split(), ag_e_src)\n",
    "print('gold:') \n",
    "colorize_twoway(detokenize(src_tokens).split(), torch.tensor([0] + src_word_tags.tolist() + [0]))"
   ]
  },
  {
   "cell_type": "code",
   "execution_count": 184,
   "id": "898ac452",
   "metadata": {},
   "outputs": [
    {
     "data": {
      "image/png": "[encoded data removed]",
      "text/plain": [
       "<Figure size 720x720 with 1 Axes>"
      ]
     },
     "metadata": {
      "needs_background": "light"
     },
     "output_type": "display_data"
    }
   ],
   "source": [
    "plt.figure(figsize=(10,10))\n",
    "plot_attention_map(tokens, attn[18,0,0], vmax=None)"
   ]
  },
  {
   "cell_type": "code",
   "execution_count": 165,
   "id": "0f25df2b",
   "metadata": {},
   "outputs": [],
   "source": [
    "# not very useful afterall\n",
    "# head_view(src_attn, src_tokens)"
   ]
  }
 ],
 "metadata": {
  "kernelspec": {
   "display_name": "Python 3 (ipykernel)",
   "language": "python",
   "name": "python3"
  },
  "language_info": {
   "codemirror_mode": {
    "name": "ipython",
    "version": 3
   },
   "file_extension": ".py",
   "mimetype": "text/x-python",
   "name": "python",
   "nbconvert_exporter": "python",
   "pygments_lexer": "ipython3",
   "version": "3.9.7"
  }
 },
 "nbformat": 4,
 "nbformat_minor": 5
}
